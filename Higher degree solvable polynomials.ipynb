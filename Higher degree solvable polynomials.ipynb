{
 "cells": [
  {
   "cell_type": "code",
   "execution_count": 1,
   "metadata": {},
   "outputs": [
    {
     "name": "stdout",
     "output_type": "stream",
     "text": [
      "To load \"drakma\":\n",
      "  Load 1 ASDF system:\n",
      "    drakma\n",
      "\n",
      "; Loading \"drakma\"\n",
      "...\n",
      "To load \"maxima-asdf\":\n",
      "  Load 1 ASDF system:\n",
      "    maxima-asdf\n"
     ]
    },
    {
     "data": {
      "text/plain": [
       "(:MAXIMA-ASDF)"
      ]
     },
     "execution_count": 1,
     "metadata": {},
     "output_type": "execute_result"
    },
    {
     "name": "stdout",
     "output_type": "stream",
     "text": [
      "\n",
      "; Loading \"maxima-asdf\"\n",
      "\n"
     ]
    }
   ],
   "source": [
    ":lisp (progn (ql:quickload :drakma)(ql:quickload :maxima-asdf))"
   ]
  },
  {
   "cell_type": "code",
   "execution_count": 2,
   "metadata": {},
   "outputs": [],
   "source": [
    "install_github(\"YasuakiHonda\",\"GaloisGroupSolver\",\"master\")$"
   ]
  },
  {
   "cell_type": "code",
   "execution_count": 3,
   "metadata": {},
   "outputs": [
    {
     "data": {
      "text/latex": [
       "\\({\\it resolvante}\\)"
      ],
      "text/plain": [
       "inline-value"
      ]
     },
     "metadata": {},
     "output_type": "display_data"
    },
    {
     "data": {
      "text/latex": [
       "\\({\\it generale}\\)"
      ],
      "text/plain": [
       "inline-value"
      ]
     },
     "metadata": {},
     "output_type": "display_data"
    },
    {
     "data": {
      "text/latex": [],
      "text/plain": [
       "inline-value"
      ]
     },
     "metadata": {},
     "output_type": "display_data"
    },
    {
     "data": {
      "text/latex": [
       "NOTE: To compile the system do"
      ],
      "text/plain": [
       "inline-value"
      ]
     },
     "metadata": {},
     "output_type": "display_data"
    },
    {
     "data": {
      "text/latex": [
       "load(\"sym/compile\");"
      ],
      "text/plain": [
       "inline-value"
      ]
     },
     "metadata": {},
     "output_type": "display_data"
    },
    {
     "name": "stdout",
     "output_type": "stream",
     "text": [
      "\n",
      "REDEFINITION-WITH-DEFUN: \n",
      "  redefining MAXIMA::EV_FORME_MONOMIALE in DEFUN\n",
      "define: warning: redefining the built-in function resolvante_produit_sym\n",
      "define: warning: redefining the built-in function resolvante_unitaire\n",
      "define: warning: redefining the built-in function resolvante_alternee1\n",
      "define: warning: redefining the built-in function resolvante_klein\n",
      "define: warning: redefining the built-in function resolvante_klein3\n",
      "define: warning: redefining the built-in function resolvante_vierer\n",
      "define: warning: redefining the built-in function resolvante_diedrale\n",
      "define: warning: redefining the built-in function resolvante_bipartite\n",
      "\n",
      "REDEFINITION-WITH-DEFUN: \n",
      "  redefining MAXIMA::$EVAL_STRING in DEFUN\n",
      "\n",
      "REDEFINITION-WITH-DEFUN: \n",
      "  redefining MAXIMA::$PARSE_STRING in DEFUN\n",
      "\n",
      "REDEFINITION-WITH-DEFUN: \n",
      "  redefining MAXIMA::PARSE-STRING in DEFUN\n",
      "\n",
      "REDEFINITION-WITH-DEFUN: \n",
      "  redefining MAXIMA::ENSURE-TERMINATOR in DEFUN\n",
      "\n",
      "REDEFINITION-WITH-DEFUN: \n",
      "  redefining MAXIMA::SNIFFER-MATCH in DEFUN\n",
      "\n",
      "REDEFINITION-WITH-DEFUN: \n",
      "  redefining MAXIMA::SNIFFER-MATCH-SEARCH in DEFUN\n",
      "\n",
      "REDEFINITION-WITH-DEFUN: \n",
      "  redefining MAXIMA::UNICODE-SNIFFER in DEFUN\n",
      "\n",
      "REDEFINITION-WITH-DEFUN: \n",
      "  redefining MAXIMA::$INFERRED_ENCODING in DEFUN\n",
      "\n",
      "REDEFINITION-WITH-DEFUN: \n",
      "  redefining MAXIMA::CHECK-ENCODING in DEFUN\n",
      "\n",
      "REDEFINITION-WITH-DEFUN: \n",
      "  redefining MAXIMA::$RECOGNIZED_ENCODING_P in DEFUN\n",
      "\n",
      "REDEFINITION-WITH-DEFUN: \n",
      "  redefining MAXIMA::INIT-*PARSE-UTF-8-INPUT* in DEFUN\n",
      "\n",
      "REDEFINITION-WITH-DEFUN: \n",
      "  redefining MAXIMA::STRING-TO-RAW-BYTES in DEFUN\n",
      "\n",
      "REDEFINITION-WITH-DEFUN: \n",
      "  redefining MAXIMA::SET-*PARSE-UTF-8-INPUT* in DEFUN\n",
      "\n",
      "REDEFINITION-WITH-DEFUN: \n",
      "  redefining MAXIMA::IO-ERROR in DEFUN\n",
      "\n",
      "REDEFINITION-WITH-DEFUN: \n",
      "  redefining MAXIMA::S-ERROR1 in DEFUN\n",
      "\n",
      "REDEFINITION-WITH-DEFUN: \n",
      "  redefining MAXIMA::S-ERROR2 in DEFUN\n",
      "\n",
      "REDEFINITION-WITH-DEFUN: \n",
      "  redefining MAXIMA::S-POS-ERROR1 in DEFUN\n",
      "\n",
      "REDEFINITION-WITH-DEFUN: \n",
      "  redefining MAXIMA::S-POS-ERROR2 in DEFUN\n",
      "\n",
      "REDEFINITION-WITH-DEFUN: \n",
      "  redefining MAXIMA::$OPENW in DEFUN\n",
      "\n",
      "REDEFINITION-WITH-DEFUN: \n",
      "  redefining MAXIMA::$OPENA in DEFUN\n",
      "\n",
      "REDEFINITION-WITH-DEFUN: \n",
      "  redefining MAXIMA::$OPENR in DEFUN\n",
      "\n",
      "REDEFINITION-WITH-DEFUN: \n",
      "  redefining MAXIMA::$MAKE_STRING_INPUT_STREAM in DEFUN\n",
      "\n",
      "REDEFINITION-WITH-DEFUN: \n",
      "  redefining MAXIMA::$MAKE_STRING_OUTPUT_STREAM in DEFUN\n",
      "\n",
      "REDEFINITION-WITH-DEFUN: \n",
      "  redefining MAXIMA::$GET_OUTPUT_STREAM_STRING in DEFUN\n",
      "\n",
      "REDEFINITION-WITH-DEFUN: \n",
      "  redefining MAXIMA::$CLOSE in DEFUN\n",
      "\n",
      "REDEFINITION-WITH-DEFUN: \n",
      "  redefining MAXIMA::$FLUSH_OUTPUT in DEFUN\n",
      "\n",
      "REDEFINITION-WITH-DEFUN: \n",
      "  redefining MAXIMA::$FLENGTH in DEFUN\n",
      "\n",
      "REDEFINITION-WITH-DEFUN: \n",
      "  redefining MAXIMA::$FPOSITION in DEFUN\n",
      "\n",
      "REDEFINITION-WITH-DEFUN: \n",
      "  redefining MAXIMA::$READLINE in DEFUN\n",
      "\n",
      "REDEFINITION-WITH-DEFUN: \n",
      "  redefining MAXIMA::$READCHAR in DEFUN\n",
      "\n",
      "REDEFINITION-WITH-DEFUN: \n",
      "  redefining MAXIMA::$READBYTE in DEFUN\n",
      "\n",
      "REDEFINITION-WITH-DEFUN: \n",
      "  redefining MAXIMA::$WRITEBYTE in DEFUN\n",
      "\n",
      "REDEFINITION-WITH-DEFUN: \n",
      "  redefining MAXIMA::$FRESHLINE in DEFUN\n",
      "\n",
      "REDEFINITION-WITH-DEFUN: \n",
      "  redefining MAXIMA::$NEWLINE in DEFUN\n",
      "\n",
      "REDEFINITION-WITH-DEFUN: \n",
      "  redefining MAXIMA::GET-ENCODING in DEFUN\n",
      "\n",
      "REDEFINITION-WITH-DEFUN: \n",
      "  redefining MAXIMA::IS-IGNORED in DEFUN\n",
      "\n",
      "REDEFINITION-WITH-DEFUN: \n",
      "  redefining MAXIMA::$ADJUST_EXTERNAL_FORMAT in DEFUN\n",
      "\n",
      "REDEFINITION-WITH-DEFUN: \n",
      "  redefining MAXIMA::USE-CP in DEFUN\n",
      "\n",
      "REDEFINITION-WITH-DEFUN: \n",
      "  redefining MAXIMA::$CHARP in DEFUN\n",
      "\n",
      "REDEFINITION-WITH-DEFUN: \n",
      "  redefining MAXIMA::$LCHAR in DEFUN\n",
      "\n",
      "REDEFINITION-WITH-DEFUN: \n",
      "  redefining MAXIMA::L-CHAR in DEFUN\n",
      "\n",
      "REDEFINITION-WITH-DEFUN: \n",
      "  redefining MAXIMA::$CUNLISP in DEFUN\n",
      "\n",
      "REDEFINITION-WITH-DEFUN: \n",
      "  redefining MAXIMA::$LCHARP in DEFUN\n",
      "\n",
      "REDEFINITION-WITH-DEFUN: \n",
      "  redefining MAXIMA::$CONSTITUENT in DEFUN\n",
      "\n",
      "REDEFINITION-WITH-DEFUN: \n",
      "  redefining MAXIMA::$ALPHANUMERICP in DEFUN\n",
      "\n",
      "REDEFINITION-WITH-DEFUN: \n",
      "  redefining MAXIMA::$ALPHACHARP in DEFUN\n",
      "\n",
      "REDEFINITION-WITH-DEFUN: \n",
      "  redefining MAXIMA::$LOWERCASEP in DEFUN\n",
      "\n",
      "REDEFINITION-WITH-DEFUN: \n",
      "  redefining MAXIMA::$UPPERCASEP in DEFUN\n",
      "\n",
      "REDEFINITION-WITH-DEFUN: \n",
      "  redefining MAXIMA::$DIGITCHARP in DEFUN\n",
      "\n",
      "REDEFINITION-WITH-DEFUN: \n",
      "  redefining MAXIMA::$CINT in DEFUN\n",
      "\n",
      "REDEFINITION-WITH-DEFUN: \n",
      "  redefining MAXIMA::MC2INT in DEFUN\n",
      "\n",
      "REDEFINITION-WITH-DEFUN: \n",
      "  redefining MAXIMA::$ASCII in DEFUN\n",
      "\n",
      "REDEFINITION-WITH-DEFUN: \n",
      "  redefining MAXIMA::$UNICODE in DEFUN\n",
      "\n",
      "REDEFINITION-WITH-DEFUN: \n",
      "  redefining MAXIMA::$UTF8_TO_UNICODE in DEFUN\n",
      "\n",
      "REDEFINITION-WITH-DEFUN: \n",
      "  redefining MAXIMA::$UNICODE_TO_UTF8 in DEFUN\n",
      "\n",
      "REDEFINITION-WITH-DEFUN: \n",
      "  redefining MAXIMA::UTF8_TO_UNICODE-ERROR in DEFUN\n",
      "\n",
      "REDEFINITION-WITH-DEFUN: \n",
      "  redefining MAXIMA::UTF8-TO-UC in DEFUN\n",
      "\n",
      "REDEFINITION-WITH-DEFUN: \n",
      "  redefining MAXIMA::UC-TO-UTF8 in DEFUN\n",
      "\n",
      "REDEFINITION-WITH-DEFUN: \n",
      "  redefining MAXIMA::$CEQUAL in DEFUN\n",
      "\n",
      "REDEFINITION-WITH-DEFUN: \n",
      "  redefining MAXIMA::$CLESSP in DEFUN\n",
      "\n",
      "REDEFINITION-WITH-DEFUN: \n",
      "  redefining MAXIMA::$CGREATERP in DEFUN\n",
      "\n",
      "REDEFINITION-WITH-DEFUN: \n",
      "  redefining MAXIMA::$CEQUALIGNORE in DEFUN\n",
      "\n",
      "REDEFINITION-WITH-DEFUN: \n",
      "  redefining MAXIMA::$CLESSPIGNORE in DEFUN\n",
      "\n",
      "REDEFINITION-WITH-DEFUN: \n",
      "  redefining MAXIMA::$CGREATERPIGNORE in DEFUN\n",
      "\n",
      "REDEFINITION-WITH-DEFUN: \n",
      "  redefining MAXIMA::CEQUAL in DEFUN\n",
      "\n",
      "REDEFINITION-WITH-DEFUN: \n",
      "  redefining MAXIMA::CLESSP in DEFUN\n",
      "\n",
      "REDEFINITION-WITH-DEFUN: \n",
      "  redefining MAXIMA::CGREATERP in DEFUN\n",
      "\n",
      "REDEFINITION-WITH-DEFUN: \n",
      "  redefining MAXIMA::CEQUALIGNORE in DEFUN\n",
      "\n",
      "REDEFINITION-WITH-DEFUN: \n",
      "  redefining MAXIMA::CLESSPIGNORE in DEFUN\n",
      "\n",
      "REDEFINITION-WITH-DEFUN: \n",
      "  redefining MAXIMA::CGREATERPIGNORE in DEFUN\n",
      "\n",
      "REDEFINITION-WITH-DEFUN: \n",
      "  redefining MAXIMA::$TAB in DEFUN\n",
      "\n",
      "REDEFINITION-WITH-DEFUN: \n",
      "  redefining MAXIMA::RM-FIRST-UTF-8-CHAR in DEFUN\n",
      "\n",
      "REDEFINITION-WITH-DEFUN: \n",
      "  redefining MAXIMA::UTF-8-M-CHAR in DEFUN\n",
      "\n",
      "REDEFINITION-WITH-DEFUN: \n",
      "  redefining MAXIMA::UTF-8-POS-DEC in DEFUN\n",
      "\n",
      "REDEFINITION-WITH-DEFUN: \n",
      "  redefining MAXIMA::UTF-8-FIX-START-END in DEFUN\n",
      "\n",
      "REDEFINITION-WITH-DEFUN: \n",
      "  redefining MAXIMA::UTF-8-POS-INC in DEFUN\n",
      "\n",
      "REDEFINITION-WITH-DEFUN: \n",
      "  redefining MAXIMA::$STRINGP in DEFUN\n",
      "\n",
      "REDEFINITION-WITH-DEFUN: \n",
      "  redefining MAXIMA::$SCOPY in DEFUN\n",
      "\n",
      "REDEFINITION-WITH-DEFUN: \n",
      "  redefining MAXIMA::$SMAKE in DEFUN\n",
      "\n",
      "REDEFINITION-WITH-DEFUN: \n",
      "  redefining MAXIMA::$CHARAT in DEFUN\n",
      "\n",
      "REDEFINITION-WITH-DEFUN: \n",
      "  redefining MAXIMA::$CHARLIST in DEFUN\n",
      "\n",
      "REDEFINITION-WITH-DEFUN: \n",
      "  redefining MAXIMA::UTF-8-CHARLIST in DEFUN\n",
      "\n",
      "REDEFINITION-WITH-DEFUN: \n",
      "  redefining MAXIMA::$TOKENS in DEFUN\n",
      "\n",
      "REDEFINITION-WITH-DEFUN: \n",
      "  redefining MAXIMA::TOKENS in DEFUN\n",
      "\n",
      "REDEFINITION-WITH-DEFUN: \n",
      "  redefining MAXIMA::CONSTITUENT in DEFUN\n",
      "\n",
      "REDEFINITION-WITH-DEFUN: \n",
      "  redefining MAXIMA::ALPHACHARP in DEFUN\n",
      "\n",
      "REDEFINITION-WITH-DEFUN: \n",
      "  redefining MAXIMA::DIGITCHARP in DEFUN\n",
      "\n",
      "REDEFINITION-WITH-DEFUN: \n",
      "  redefining MAXIMA::LOWERCASEP in DEFUN\n",
      "\n",
      "REDEFINITION-WITH-DEFUN: \n",
      "  redefining MAXIMA::UPPERCASEP in DEFUN\n",
      "\n",
      "REDEFINITION-WITH-DEFUN: \n",
      "  redefining MAXIMA::CHARP in DEFUN\n",
      "\n",
      "REDEFINITION-WITH-DEFUN: \n",
      "  redefining MAXIMA::$SPLIT in DEFUN\n",
      "\n",
      "REDEFINITION-WITH-DEFUN: \n",
      "  redefining MAXIMA::SPLIT in DEFUN\n",
      "\n",
      "REDEFINITION-WITH-DEFUN: \n",
      "  redefining MAXIMA::$SIMPLODE in DEFUN\n",
      "\n",
      "REDEFINITION-WITH-DEFUN: \n",
      "  redefining MAXIMA::$SLENGTH in DEFUN\n",
      "\n",
      "REDEFINITION-WITH-DEFUN: \n",
      "  redefining MAXIMA::UTF-8-SLENGTH in DEFUN\n",
      "\n",
      "REDEFINITION-WITH-DEFUN: \n",
      "  redefining MAXIMA::$SPOSITION in DEFUN\n",
      "\n",
      "REDEFINITION-WITH-DEFUN: \n",
      "  redefining MAXIMA::$SREVERSE in DEFUN\n",
      "\n",
      "REDEFINITION-WITH-DEFUN: \n",
      "  redefining MAXIMA::UTF-8-SREVERSE in DEFUN\n",
      "\n",
      "REDEFINITION-WITH-DEFUN: \n",
      "  redefining MAXIMA::$SUBSTRING in DEFUN\n",
      "\n",
      "REDEFINITION-WITH-DEFUN: \n",
      "  redefining MAXIMA::$SEQUAL in DEFUN\n",
      "\n",
      "REDEFINITION-WITH-DEFUN: \n",
      "  redefining MAXIMA::$SEQUALIGNORE in DEFUN\n",
      "\n",
      "REDEFINITION-WITH-DEFUN: \n",
      "  redefining MAXIMA::$SLESSP in DEFUN\n",
      "\n",
      "REDEFINITION-WITH-DEFUN: \n",
      "  redefining MAXIMA::$SGREATERP in DEFUN\n",
      "\n",
      "REDEFINITION-WITH-DEFUN: \n",
      "  redefining MAXIMA::$SLESSPIGNORE in DEFUN\n",
      "\n",
      "REDEFINITION-WITH-DEFUN: \n",
      "  redefining MAXIMA::$SGREATERPIGNORE in DEFUN\n",
      "\n",
      "REDEFINITION-WITH-DEFUN: \n",
      "  redefining MAXIMA::SCOMPARE in DEFUN\n",
      "\n",
      "REDEFINITION-WITH-DEFUN: \n",
      "  redefining MAXIMA::CHARS-TO-COMPARE in DEFUN\n",
      "\n",
      "REDEFINITION-WITH-DEFUN: \n",
      "  redefining MAXIMA::PARSE-UTF-8-HEADER in DEFUN\n",
      "\n",
      "REDEFINITION-WITH-DEFUN: \n",
      "  redefining MAXIMA::$SMISMATCH in DEFUN\n",
      "\n",
      "REDEFINITION-WITH-DEFUN: \n",
      "  redefining MAXIMA::$SSEARCH in DEFUN\n",
      "\n",
      "REDEFINITION-WITH-DEFUN: \n",
      "  redefining MAXIMA::SSEARCH in DEFUN\n",
      "\n",
      "REDEFINITION-WITH-DEFUN: \n",
      "  redefining MAXIMA::S-OPTIONAL-ARGS in DEFUN\n",
      "\n",
      "REDEFINITION-WITH-DEFUN: \n",
      "  redefining MAXIMA::$SSUBSTFIRST in DEFUN\n",
      "\n",
      "REDEFINITION-WITH-DEFUN: \n",
      "  redefining MAXIMA::SSUBSTFIRST in DEFUN\n",
      "\n",
      "REDEFINITION-WITH-DEFUN: \n",
      "  redefining MAXIMA::$SSUBST in DEFUN\n",
      "\n",
      "REDEFINITION-WITH-DEFUN: \n",
      "  redefining MAXIMA::SSUBST in DEFUN\n",
      "\n",
      "REDEFINITION-WITH-DEFUN: \n",
      "  redefining MAXIMA::$SREMOVEFIRST in DEFUN\n",
      "\n",
      "REDEFINITION-WITH-DEFUN: \n",
      "  redefining MAXIMA::SREMOVEFIRST in DEFUN\n",
      "\n",
      "REDEFINITION-WITH-DEFUN: \n",
      "  redefining MAXIMA::$SREMOVE in DEFUN\n",
      "\n",
      "REDEFINITION-WITH-DEFUN: \n",
      "  redefining MAXIMA::SREMOVE in DEFUN\n",
      "\n",
      "REDEFINITION-WITH-DEFUN: \n",
      "  redefining MAXIMA::$SINSERT in DEFUN\n",
      "\n",
      "REDEFINITION-WITH-DEFUN: \n",
      "  redefining MAXIMA::$SSORT in DEFUN\n",
      "\n",
      "REDEFINITION-WITH-DEFUN: \n",
      "  redefining MAXIMA::UTF-8-SSORT in DEFUN\n",
      "\n",
      "REDEFINITION-WITH-DEFUN: \n",
      "  redefining MAXIMA::$STRIM in DEFUN\n",
      "\n",
      "REDEFINITION-WITH-DEFUN: \n",
      "  redefining MAXIMA::$STRIML in DEFUN\n",
      "\n",
      "REDEFINITION-WITH-DEFUN: \n",
      "  redefining MAXIMA::$STRIMR in DEFUN\n",
      "\n",
      "REDEFINITION-WITH-DEFUN: \n",
      "  redefining MAXIMA::$SUPCASE in DEFUN\n",
      "\n",
      "REDEFINITION-WITH-DEFUN: \n",
      "  redefining MAXIMA::$SDOWNCASE in DEFUN\n",
      "\n",
      "REDEFINITION-WITH-DEFUN: \n",
      "  redefining MAXIMA::CHANGE-CASE in DEFUN\n",
      "\n",
      "REDEFINITION-WITH-DEFUN: \n",
      "  redefining MAXIMA::$SINVERTCASE in DEFUN\n",
      "\n",
      "REDEFINITION-WITH-DEFUN: \n",
      "  redefining MAXIMA::S-INVERT-CASE in DEFUN\n",
      "\n",
      "REDEFINITION-WITH-DEFUN: \n",
      "  redefining MAXIMA::C-INVERT-CASE in DEFUN\n"
     ]
    },
    {
     "name": "stdout",
     "output_type": "stream",
     "text": [
      "\n",
      "REDEFINITION-WITH-DEFUN: \n",
      "  redefining MAXIMA::$SPRINT in DEFUN\n",
      "\n",
      "REDEFINITION-WITH-DEFUN: \n",
      "  redefining MAXIMA::$PRINTF in DEFUN\n",
      "\n",
      "REDEFINITION-WITH-DEFUN: \n",
      "  redefining MAXIMA::PREPARE-ARGS in DEFUN\n",
      "\n",
      "REDEFINITION-WITH-DEFUN: \n",
      "  redefining MAXIMA::PREPARE-CTRLS in DEFUN\n",
      "\n",
      "REDEFINITION-WITH-DEFUN: \n",
      "  redefining MAXIMA::SPEC-POSITION in DEFUN\n",
      "\n",
      "REDEFINITION-WITH-DEFUN: \n",
      "  redefining MAXIMA::COUNT-V in DEFUN\n",
      "\n",
      "REDEFINITION-WITH-DEFUN: \n",
      "  redefining MAXIMA::|CHECK-V#| in DEFUN\n",
      "\n",
      "REDEFINITION-WITH-DEFUN: \n",
      "  redefining MAXIMA::ITER-POSITIONS in DEFUN\n",
      "\n",
      "REDEFINITION-WITH-DEFUN: \n",
      "  redefining MAXIMA::SPLIT-AT-COMMA in DEFUN\n",
      "\n",
      "REDEFINITION-WITH-DEFUN: \n",
      "  redefining MAXIMA::PREPARE-ARG in DEFUN\n",
      "\n",
      "REDEFINITION-WITH-DEFUN: \n",
      "  redefining MAXIMA::BPRINTF in DEFUN\n",
      "\n",
      "REDEFINITION-WITH-DEFUN: \n",
      "  redefining MAXIMA::$STRING_TO_OCTETS in DEFUN\n",
      "\n",
      "REDEFINITION-WITH-DEFUN: \n",
      "  redefining MAXIMA::STRING-TO-OCTETS in DEFUN\n",
      "\n",
      "REDEFINITION-WITH-DEFUN: \n",
      "  redefining MAXIMA::$OCTETS_TO_STRING in DEFUN\n",
      "\n",
      "REDEFINITION-WITH-DEFUN: \n",
      "  redefining MAXIMA::OCTETS-TO-STRING in DEFUN\n",
      "\n",
      "REDEFINITION-WITH-DEFUN: \n",
      "  redefining MAXIMA::WORD-TO-OCTETS in DEFUN\n",
      "\n",
      "REDEFINITION-WITH-DEFUN: \n",
      "  redefining MAXIMA::NUMBER-TO-OCTETS in DEFUN\n",
      "\n",
      "REDEFINITION-WITH-DEFUN: \n",
      "  redefining MAXIMA::OCTETS-TO-NUMBER in DEFUN\n",
      "\n",
      "REDEFINITION-WITH-DEFUN: \n",
      "  redefining MAXIMA::$NUMBER_TO_OCTETS-IMPL in DEFUN\n",
      "\n",
      "REDEFINITION-WITH-DEFUN: \n",
      "  redefining MAXIMA::$NUMBER_TO_OCTETS in DEFUN\n",
      "\n",
      "REDEFINITION-WITH-DEFUN: \n",
      "  redefining MAXIMA::$OCTETS_TO_NUMBER-IMPL in DEFUN\n",
      "\n",
      "REDEFINITION-WITH-DEFUN: \n",
      "  redefining MAXIMA::$OCTETS_TO_NUMBER in DEFUN\n",
      "\n",
      "REDEFINITION-WITH-DEFUN: \n",
      "  redefining MAXIMA::OID-NUMBER-TO-7BIT in DEFUN\n",
      "\n",
      "REDEFINITION-WITH-DEFUN: \n",
      "  redefining MAXIMA::OID-TO-OCTETS in DEFUN\n",
      "\n",
      "REDEFINITION-WITH-DEFUN: \n",
      "  redefining MAXIMA::$OID_TO_OCTETS-IMPL in DEFUN\n",
      "\n",
      "REDEFINITION-WITH-DEFUN: \n",
      "  redefining MAXIMA::$OID_TO_OCTETS in DEFUN\n",
      "\n",
      "REDEFINITION-WITH-DEFUN: \n",
      "  redefining MAXIMA::OID-SPLIT in DEFUN\n",
      "\n",
      "REDEFINITION-WITH-DEFUN: \n",
      "  redefining MAXIMA::OCTETS-TO-OID-1 in DEFUN\n",
      "\n",
      "REDEFINITION-WITH-DEFUN: \n",
      "  redefining MAXIMA::OCTETS-TO-OID in DEFUN\n",
      "\n",
      "REDEFINITION-WITH-DEFUN: \n",
      "  redefining MAXIMA::$OCTETS_TO_OID-IMPL in DEFUN\n",
      "\n",
      "REDEFINITION-WITH-DEFUN: \n",
      "  redefining MAXIMA::$OCTETS_TO_OID in DEFUN\n",
      "\n",
      "REDEFINITION-WITH-DEFUN: \n",
      "  redefining MAXIMA::CRC24SUM in DEFUN\n",
      "\n",
      "REDEFINITION-WITH-DEFUN: \n",
      "  redefining MAXIMA::$CRC24SUM-IMPL in DEFUN\n",
      "\n",
      "REDEFINITION-WITH-DEFUN: \n",
      "  redefining MAXIMA::$CRC24SUM in DEFUN\n",
      "\n",
      "REDEFINITION-WITH-DEFUN: \n",
      "  redefining MAXIMA::MD5-NOT in DEFUN\n",
      "\n",
      "REDEFINITION-WITH-DEFUN: \n",
      "  redefining MAXIMA::MD5+ in DEFUN\n",
      "\n",
      "REDEFINITION-WITH-DEFUN: \n",
      "  redefining MAXIMA::MD5-LEFT-ROTATION in DEFUN\n",
      "\n",
      "REDEFINITION-WITH-DEFUN: \n",
      "  redefining MAXIMA::MD5-WORKER in DEFUN\n",
      "\n",
      "REDEFINITION-WITH-DEFUN: \n",
      "  redefining MAXIMA::SWAP-ENDIAN64 in DEFUN\n",
      "\n",
      "REDEFINITION-WITH-DEFUN: \n",
      "  redefining MAXIMA::SWAP-ENDIAN32 in DEFUN\n",
      "\n",
      "REDEFINITION-WITH-DEFUN: \n",
      "  redefining MAXIMA::MD5-WORDS in DEFUN\n",
      "\n",
      "REDEFINITION-WITH-DEFUN: \n",
      "  redefining MAXIMA::MD5-UPDATE in DEFUN\n",
      "\n",
      "REDEFINITION-WITH-DEFUN: \n",
      "  redefining MAXIMA::MD5-FINAL in DEFUN\n",
      "\n",
      "REDEFINITION-WITH-DEFUN: \n",
      "  redefining MAXIMA::$MD5SUM-IMPL in DEFUN\n",
      "\n",
      "REDEFINITION-WITH-DEFUN: \n",
      "  redefining MAXIMA::$MD5SUM in DEFUN\n",
      "\n",
      "REDEFINITION-WITH-DEFUN: \n",
      "  redefining MAXIMA::$BASE64-IMPL in DEFUN\n",
      "\n",
      "REDEFINITION-WITH-DEFUN: \n",
      "  redefining MAXIMA::$BASE64 in DEFUN\n",
      "\n",
      "REDEFINITION-WITH-DEFUN: \n",
      "  redefining MAXIMA::$BASE64_DECODE-IMPL in DEFUN\n",
      "\n",
      "REDEFINITION-WITH-DEFUN: \n",
      "  redefining MAXIMA::$BASE64_DECODE in DEFUN\n",
      "\n",
      "REDEFINITION-WITH-DEFUN: \n",
      "  redefining MAXIMA::SHA-NOT in DEFUN\n",
      "\n",
      "REDEFINITION-WITH-DEFUN: \n",
      "  redefining MAXIMA::SHA+ in DEFUN\n",
      "\n",
      "REDEFINITION-WITH-DEFUN: \n",
      "  redefining MAXIMA::SHA-LEFT-ROTATION in DEFUN\n",
      "\n",
      "REDEFINITION-WITH-DEFUN: \n",
      "  redefining MAXIMA::SHA-RIGHT-ROTATION in DEFUN\n",
      "\n",
      "REDEFINITION-WITH-DEFUN: \n",
      "  redefining MAXIMA::SHA-UPDATE in DEFUN\n",
      "\n",
      "REDEFINITION-WITH-DEFUN: \n",
      "  redefining MAXIMA::SHA-LEN64 in DEFUN\n",
      "\n",
      "REDEFINITION-WITH-DEFUN: \n",
      "  redefining MAXIMA::SHA-FINAL in DEFUN\n",
      "\n",
      "REDEFINITION-WITH-DEFUN: \n",
      "  redefining MAXIMA::SHA1-WORKER in DEFUN\n",
      "\n",
      "REDEFINITION-WITH-DEFUN: \n",
      "  redefining MAXIMA::SHA1-WORDS in DEFUN\n",
      "\n",
      "REDEFINITION-WITH-DEFUN: \n",
      "  redefining MAXIMA::$SHA1SUM-IMPL in DEFUN\n",
      "\n",
      "REDEFINITION-WITH-DEFUN: \n",
      "  redefining MAXIMA::$SHA1SUM in DEFUN\n",
      "\n",
      "REDEFINITION-WITH-DEFUN: \n",
      "  redefining MAXIMA::$MGF1_SHA1-IMPL in DEFUN\n",
      "\n",
      "REDEFINITION-WITH-DEFUN: \n",
      "  redefining MAXIMA::$MGF1_SHA1 in DEFUN\n",
      "\n",
      "REDEFINITION-WITH-DEFUN: \n",
      "  redefining MAXIMA::SHA256-WORKER in DEFUN\n",
      "\n",
      "REDEFINITION-WITH-DEFUN: \n",
      "  redefining MAXIMA::SHA256-WORDS in DEFUN\n",
      "\n",
      "REDEFINITION-WITH-DEFUN: \n",
      "  redefining MAXIMA::$SHA256SUM-IMPL in DEFUN\n",
      "\n",
      "REDEFINITION-WITH-DEFUN: \n",
      "  redefining MAXIMA::$SHA256SUM in DEFUN\n"
     ]
    },
    {
     "data": {
      "text/latex": [
       "\\[\\tag{${\\it \\%o}_{3}$}\\#<LOAD-SOURCE-OP >\\]"
      ],
      "text/plain": [
       "(%o3)                         #<LOAD-SOURCE-OP >"
      ],
      "text/x-maxima": [
       "\\#\\<LOAD\\-SOURCE\\-OP\\ \\>"
      ]
     },
     "execution_count": 3,
     "metadata": {},
     "output_type": "execute_result"
    },
    {
     "name": "stdout",
     "output_type": "stream",
     "text": [
      "\n",
      "SIMPLE-STYLE-WARNING: \n",
      "  undefined function: MAXIMA::$ADD_SYM\n",
      "\n",
      "SIMPLE-STYLE-WARNING: \n",
      "  undefined function: MAXIMA::$ADD_SYM\n",
      "\n",
      "SIMPLE-STYLE-WARNING: \n",
      "  undefined function: MAXIMA::$ADD_SYM\n",
      "\n",
      "SIMPLE-STYLE-WARNING: \n",
      "  4 more uses of undefined function $ADD_SYM\n",
      "undefined variable: MAXIMA::$DIRECTNEW\n",
      "\n",
      "SIMPLE-STYLE-WARNING: \n",
      "  undefined function: MAXIMA::$DIVI_SYM\n",
      "\n",
      "SIMPLE-STYLE-WARNING: \n",
      "  undefined function: MAXIMA::$DIVI_SYM\n",
      "\n",
      "SIMPLE-STYLE-WARNING: \n",
      "  undefined function: MAXIMA::$DIVI_SYM\n",
      "\n",
      "SIMPLE-STYLE-WARNING: \n",
      "  1 more use of undefined function $DIVI_SYM\n",
      "\n",
      "SIMPLE-STYLE-WARNING: \n",
      "  undefined function: MAXIMA::$EXP_SYM\n",
      "\n",
      "SIMPLE-STYLE-WARNING: \n",
      "  undefined function: MAXIMA::$EXP_SYM\n",
      "\n",
      "SIMPLE-STYLE-WARNING: \n",
      "  undefined function: MAXIMA::$EXP_SYM\n",
      "\n",
      "SIMPLE-STYLE-WARNING: \n",
      "  2 more uses of undefined function $EXP_SYM\n",
      "\n",
      "SIMPLE-STYLE-WARNING: \n",
      "  undefined function: MAXIMA::$FADD_SYM\n",
      "\n",
      "SIMPLE-STYLE-WARNING: \n",
      "  undefined function: MAXIMA::$FADD_SYM\n",
      "\n",
      "SIMPLE-STYLE-WARNING: \n",
      "  undefined function: MAXIMA::$FMULT_SYM\n",
      "\n",
      "SIMPLE-STYLE-WARNING: \n",
      "  undefined function: MAXIMA::$MOINS_SYM\n",
      "\n",
      "SIMPLE-STYLE-WARNING: \n",
      "  undefined function: MAXIMA::$MULT_SYM\n",
      "\n",
      "SIMPLE-STYLE-WARNING: \n",
      "  undefined function: MAXIMA::$MULT_SYM\n",
      "\n",
      "SIMPLE-STYLE-WARNING: \n",
      "  undefined function: MAXIMA::$MULT_SYM\n",
      "\n",
      "SIMPLE-STYLE-WARNING: \n",
      "  8 more uses of undefined function $MULT_SYM\n",
      "\n",
      "SIMPLE-STYLE-WARNING: \n",
      "  undefined function: MAXIMA::$PART0\n",
      "undefined variable: MAXIMA::$RESOLCAYLEY\n",
      "undefined variable: MAXIMA::$RESOLVANTE\n",
      "undefined variable: MAXIMA::$SCHUR2COMP\n",
      "\n",
      "SIMPLE-STYLE-WARNING: \n",
      "  undefined function: MAXIMA::GROUPE_RESOLVANTE\n"
     ]
    }
   ],
   "source": [
    "asdf_load_source(\"solve-solvable\");"
   ]
  },
  {
   "cell_type": "code",
   "execution_count": 4,
   "metadata": {},
   "outputs": [
    {
     "data": {
      "text/latex": [
       "Minimal polynomial of V"
      ],
      "text/plain": [
       "inline-value"
      ]
     },
     "metadata": {},
     "output_type": "display_data"
    },
    {
     "data": {
      "text/latex": [
       "\\(V^2-8\\)"
      ],
      "text/plain": [
       "inline-value"
      ]
     },
     "metadata": {},
     "output_type": "display_data"
    },
    {
     "data": {
      "text/latex": [
       "Galois Group of \\(x^2-2\\)"
      ],
      "text/plain": [
       "inline-value"
      ]
     },
     "metadata": {},
     "output_type": "display_data"
    },
    {
     "data": {
      "text/latex": [
       "\\(\\begin{pmatrix}a & b \\\\ b & a \\\\ \\end{pmatrix}\\)"
      ],
      "text/plain": [
       "inline-value"
      ]
     },
     "metadata": {},
     "output_type": "display_data"
    },
    {
     "data": {
      "text/latex": [
       "Subnormal series and quotients of orders"
      ],
      "text/plain": [
       "inline-value"
      ]
     },
     "metadata": {},
     "output_type": "display_data"
    },
    {
     "data": {
      "text/latex": [
       "FiniteGroup[1,2]"
      ],
      "text/plain": [
       "inline-value"
      ]
     },
     "metadata": {},
     "output_type": "display_data"
    },
    {
     "data": {
      "text/latex": [
       "FiniteGroup[1]"
      ],
      "text/plain": [
       "inline-value"
      ]
     },
     "metadata": {},
     "output_type": "display_data"
    },
    {
     "data": {
      "text/latex": [
       "\\(x^2-2\\) is solvable."
      ],
      "text/plain": [
       "inline-value"
      ]
     },
     "metadata": {},
     "output_type": "display_data"
    },
    {
     "data": {
      "text/latex": [
       "Solutions"
      ],
      "text/plain": [
       "inline-value"
      ]
     },
     "metadata": {},
     "output_type": "display_data"
    },
    {
     "data": {
      "text/latex": [
       "\\(x_{1}=-\\frac{\\alpha_{1}}{2}\\)"
      ],
      "text/plain": [
       "inline-value"
      ]
     },
     "metadata": {},
     "output_type": "display_data"
    },
    {
     "data": {
      "text/latex": [
       "\\(x_{2}=\\frac{\\alpha_{1}}{2}\\)"
      ],
      "text/plain": [
       "inline-value"
      ]
     },
     "metadata": {},
     "output_type": "display_data"
    },
    {
     "data": {
      "text/latex": [
       "with"
      ],
      "text/plain": [
       "inline-value"
      ]
     },
     "metadata": {},
     "output_type": "display_data"
    },
    {
     "data": {
      "text/latex": [
       "\\(\\left[ \\left[ \\alpha_{1} , \\alpha_{1}^2-8 \\right]  \\right] \\)"
      ],
      "text/plain": [
       "inline-value"
      ]
     },
     "metadata": {},
     "output_type": "display_data"
    },
    {
     "data": {
      "text/latex": [
       "Verification"
      ],
      "text/plain": [
       "inline-value"
      ]
     },
     "metadata": {},
     "output_type": "display_data"
    },
    {
     "data": {
      "text/latex": [
       "Numeric calcuration of the above solutions"
      ],
      "text/plain": [
       "inline-value"
      ]
     },
     "metadata": {},
     "output_type": "display_data"
    },
    {
     "data": {
      "text/latex": [
       "\\(\\left[ -1.414213562373095_B \\times 10^{0} , 1.414213562373095_B \\times 10^{0} \\right] \\)"
      ],
      "text/plain": [
       "inline-value"
      ]
     },
     "metadata": {},
     "output_type": "display_data"
    },
    {
     "data": {
      "text/latex": [
       "Numeric solutions with allroots( \\(x^2-2\\) )"
      ],
      "text/plain": [
       "inline-value"
      ]
     },
     "metadata": {},
     "output_type": "display_data"
    },
    {
     "data": {
      "text/latex": [
       "\\(\\left[ x=1.414213562373095 , x=-1.414213562373095 \\right] \\)"
      ],
      "text/plain": [
       "inline-value"
      ]
     },
     "metadata": {},
     "output_type": "display_data"
    }
   ],
   "source": [
    "SolveSolvable(x^2-2)$"
   ]
  },
  {
   "cell_type": "code",
   "execution_count": 5,
   "metadata": {},
   "outputs": [
    {
     "name": "stdout",
     "output_type": "stream",
     "text": [
      "\n",
      "                  2\n",
      "not irreducible: x  - 4\n",
      "\n",
      "\n",
      "#0: gal_init_polynomial_info(p=x^2-4) (Gal.mac line 71)\n",
      "#1: SolveSolvable(p1=x^2-4) (SolveSolvable2.mac line 57)\n",
      "\n",
      " -- an error. To debug this try: debugmode(true);\n"
     ]
    }
   ],
   "source": [
    "SolveSolvable(x^2-4)$"
   ]
  },
  {
   "cell_type": "code",
   "execution_count": 6,
   "metadata": {},
   "outputs": [
    {
     "data": {
      "text/latex": [
       "Minimal polynomial of V"
      ],
      "text/plain": [
       "inline-value"
      ]
     },
     "metadata": {},
     "output_type": "display_data"
    },
    {
     "data": {
      "text/latex": [
       "\\(V^6+80\\,V^3+5488\\)"
      ],
      "text/plain": [
       "inline-value"
      ]
     },
     "metadata": {},
     "output_type": "display_data"
    },
    {
     "data": {
      "text/latex": [
       "Galois Group of \\(x^3-4\\)"
      ],
      "text/plain": [
       "inline-value"
      ]
     },
     "metadata": {},
     "output_type": "display_data"
    },
    {
     "data": {
      "text/latex": [
       "\\(\\begin{pmatrix}a & b & c \\\\ a & c & b \\\\ b & a & c \\\\ b & c & a \\\\ c & a & b \\\\ c & b & a \\\\ \\end{pmatrix}\\)"
      ],
      "text/plain": [
       "inline-value"
      ]
     },
     "metadata": {},
     "output_type": "display_data"
    },
    {
     "data": {
      "text/latex": [
       "Subnormal series and quotients of orders"
      ],
      "text/plain": [
       "inline-value"
      ]
     },
     "metadata": {},
     "output_type": "display_data"
    },
    {
     "data": {
      "text/latex": [
       "FiniteGroup[1,2,3,4,5,6]"
      ],
      "text/plain": [
       "inline-value"
      ]
     },
     "metadata": {},
     "output_type": "display_data"
    },
    {
     "data": {
      "text/latex": [
       "FiniteGroup[1,4,5]"
      ],
      "text/plain": [
       "inline-value"
      ]
     },
     "metadata": {},
     "output_type": "display_data"
    },
    {
     "data": {
      "text/latex": [
       "FiniteGroup[1]"
      ],
      "text/plain": [
       "inline-value"
      ]
     },
     "metadata": {},
     "output_type": "display_data"
    },
    {
     "data": {
      "text/latex": [
       "\\(x^3-4\\) is solvable."
      ],
      "text/plain": [
       "inline-value"
      ]
     },
     "metadata": {},
     "output_type": "display_data"
    },
    {
     "name": "stdout",
     "output_type": "stream",
     "text": [
      "\n",
      "expt: undefined: 0 to a negative exponent."
     ]
    },
    {
     "data": {
      "text/latex": [
       "Solutions"
      ],
      "text/plain": [
       "inline-value"
      ]
     },
     "metadata": {},
     "output_type": "display_data"
    },
    {
     "data": {
      "text/latex": [
       "\\(x_{1}=\\frac{\\alpha_{1}\\,\\alpha_{2}}{168}-\\frac{\\alpha_{2}}{14}\\)"
      ],
      "text/plain": [
       "inline-value"
      ]
     },
     "metadata": {},
     "output_type": "display_data"
    },
    {
     "data": {
      "text/latex": [
       "\\(x_{2}=\\frac{5\\,\\alpha_{2}}{14}-\\frac{\\alpha_{1}\\,\\alpha_{2}}{504}\\)"
      ],
      "text/plain": [
       "inline-value"
      ]
     },
     "metadata": {},
     "output_type": "display_data"
    },
    {
     "data": {
      "text/latex": [
       "\\(x_{3}=-\\frac{\\alpha_{1}\\,\\alpha_{2}}{252}-\\frac{2\\,\\alpha_{2}}{7}\\)"
      ],
      "text/plain": [
       "inline-value"
      ]
     },
     "metadata": {},
     "output_type": "display_data"
    },
    {
     "data": {
      "text/latex": [
       "with"
      ],
      "text/plain": [
       "inline-value"
      ]
     },
     "metadata": {},
     "output_type": "display_data"
    },
    {
     "data": {
      "text/latex": [
       "\\(\\left[ \\left[ \\alpha_{2} , -72\\,{\\rm Z}_{3}+\\alpha_{2}^3-76 \\right]  , \\left[ {\\rm Z}_{3} , {\\rm Z}_{3}^2+{\\rm Z}_{3}+1 \\right]  , \\left[ \\alpha_{1} , \\alpha_{1}^2+3888 \\right]  \\right] \\)"
      ],
      "text/plain": [
       "inline-value"
      ]
     },
     "metadata": {},
     "output_type": "display_data"
    },
    {
     "data": {
      "text/latex": [
       "Verification"
      ],
      "text/plain": [
       "inline-value"
      ]
     },
     "metadata": {},
     "output_type": "display_data"
    },
    {
     "data": {
      "text/latex": [
       "Numeric calcuration of the above solutions"
      ],
      "text/plain": [
       "inline-value"
      ]
     },
     "metadata": {},
     "output_type": "display_data"
    },
    {
     "data": {
      "text/latex": [
       "\\(\\left[ -1.374729636998602_B \\times 10^{0}\\,i-7.937005259840995_B \\times 10^{-1} , 1.110223024625157_B \\times 10^{-16}\\,i+1.587401051968199_B \\times 10^{0} , 1.374729636998602_B \\times 10^{0}\\,i-7.937005259840996_B \\times 10^{-1} \\right] \\)"
      ],
      "text/plain": [
       "inline-value"
      ]
     },
     "metadata": {},
     "output_type": "display_data"
    },
    {
     "data": {
      "text/latex": [
       "Numeric solutions with allroots( \\(x^3-4\\) )"
      ],
      "text/plain": [
       "inline-value"
      ]
     },
     "metadata": {},
     "output_type": "display_data"
    },
    {
     "data": {
      "text/latex": [
       "\\(\\left[ x=1.587401051968199 , x=1.374729636998602\\,i-0.7937005259840997 , x=-1.374729636998602\\,i-0.7937005259840997 \\right] \\)"
      ],
      "text/plain": [
       "inline-value"
      ]
     },
     "metadata": {},
     "output_type": "display_data"
    },
    {
     "name": "stdout",
     "output_type": "stream",
     "text": [
      "\n"
     ]
    }
   ],
   "source": [
    "SolveSolvable(x^3-4)$"
   ]
  },
  {
   "cell_type": "code",
   "execution_count": 7,
   "metadata": {},
   "outputs": [
    {
     "data": {
      "text/latex": [
       "Minimal polynomial of V"
      ],
      "text/plain": [
       "inline-value"
      ]
     },
     "metadata": {},
     "output_type": "display_data"
    },
    {
     "data": {
      "text/latex": [
       "\\(V^8-58\\,V^6+959\\,V^4-3422\\,V^2+885481\\)"
      ],
      "text/plain": [
       "inline-value"
      ]
     },
     "metadata": {},
     "output_type": "display_data"
    },
    {
     "data": {
      "text/latex": [
       "Galois Group of \\(x^4-x^2-1\\)"
      ],
      "text/plain": [
       "inline-value"
      ]
     },
     "metadata": {},
     "output_type": "display_data"
    },
    {
     "data": {
      "text/latex": [
       "\\(\\begin{pmatrix}a & b & c & d \\\\ a & b & d & c \\\\ b & a & c & d \\\\ b & a & d & c \\\\ c & d & a & b \\\\ c & d & b & a \\\\ d & c & a & b \\\\ d & c & b & a \\\\ \\end{pmatrix}\\)"
      ],
      "text/plain": [
       "inline-value"
      ]
     },
     "metadata": {},
     "output_type": "display_data"
    },
    {
     "data": {
      "text/latex": [
       "Subnormal series and quotients of orders"
      ],
      "text/plain": [
       "inline-value"
      ]
     },
     "metadata": {},
     "output_type": "display_data"
    },
    {
     "data": {
      "text/latex": [
       "FiniteGroup[1,2,7,8,17,18,23,24]"
      ],
      "text/plain": [
       "inline-value"
      ]
     },
     "metadata": {},
     "output_type": "display_data"
    },
    {
     "data": {
      "text/latex": [
       "FiniteGroup[1,2,7,8]"
      ],
      "text/plain": [
       "inline-value"
      ]
     },
     "metadata": {},
     "output_type": "display_data"
    },
    {
     "data": {
      "text/latex": [
       "FiniteGroup[1,2]"
      ],
      "text/plain": [
       "inline-value"
      ]
     },
     "metadata": {},
     "output_type": "display_data"
    },
    {
     "data": {
      "text/latex": [
       "FiniteGroup[1]"
      ],
      "text/plain": [
       "inline-value"
      ]
     },
     "metadata": {},
     "output_type": "display_data"
    },
    {
     "data": {
      "text/latex": [
       "\\(x^4-x^2-1\\) is solvable."
      ],
      "text/plain": [
       "inline-value"
      ]
     },
     "metadata": {},
     "output_type": "display_data"
    },
    {
     "data": {
      "text/latex": [
       "Solutions"
      ],
      "text/plain": [
       "inline-value"
      ]
     },
     "metadata": {},
     "output_type": "display_data"
    },
    {
     "data": {
      "text/latex": [
       "\\(x_{1}=-\\frac{\\alpha_{2}}{4}\\)"
      ],
      "text/plain": [
       "inline-value"
      ]
     },
     "metadata": {},
     "output_type": "display_data"
    },
    {
     "data": {
      "text/latex": [
       "\\(x_{2}=\\frac{\\alpha_{2}}{4}\\)"
      ],
      "text/plain": [
       "inline-value"
      ]
     },
     "metadata": {},
     "output_type": "display_data"
    },
    {
     "data": {
      "text/latex": [
       "\\(x_{3}=-\\frac{\\alpha_{3}}{5}\\)"
      ],
      "text/plain": [
       "inline-value"
      ]
     },
     "metadata": {},
     "output_type": "display_data"
    },
    {
     "data": {
      "text/latex": [
       "\\(x_{4}=\\frac{\\alpha_{3}}{5}\\)"
      ],
      "text/plain": [
       "inline-value"
      ]
     },
     "metadata": {},
     "output_type": "display_data"
    },
    {
     "data": {
      "text/latex": [
       "with"
      ],
      "text/plain": [
       "inline-value"
      ]
     },
     "metadata": {},
     "output_type": "display_data"
    },
    {
     "data": {
      "text/latex": [
       "\\(\\left[ \\left[ \\alpha_{3} , \\alpha_{3}^2+\\frac{25\\,\\alpha_{1}}{42}-\\frac{25}{2} \\right]  , \\left[ \\alpha_{2} , \\alpha_{2}^2-\\frac{8\\,\\alpha_{1}}{21}-8 \\right]  , \\left[ \\alpha_{1} , \\alpha_{1}^2-2205 \\right]  \\right] \\)"
      ],
      "text/plain": [
       "inline-value"
      ]
     },
     "metadata": {},
     "output_type": "display_data"
    },
    {
     "data": {
      "text/latex": [
       "Verification"
      ],
      "text/plain": [
       "inline-value"
      ]
     },
     "metadata": {},
     "output_type": "display_data"
    },
    {
     "data": {
      "text/latex": [
       "Numeric calcuration of the above solutions"
      ],
      "text/plain": [
       "inline-value"
      ]
     },
     "metadata": {},
     "output_type": "display_data"
    },
    {
     "data": {
      "text/latex": [
       "\\(\\left[ -1.27201964951407_B \\times 10^{0} , 1.27201964951407_B \\times 10^{0} , 7.861513777574241_B \\times 10^{-1}\\,i , -7.861513777574241_B \\times 10^{-1}\\,i \\right] \\)"
      ],
      "text/plain": [
       "inline-value"
      ]
     },
     "metadata": {},
     "output_type": "display_data"
    },
    {
     "data": {
      "text/latex": [
       "Numeric solutions with allroots( \\(x^4-x^2-1\\) )"
      ],
      "text/plain": [
       "inline-value"
      ]
     },
     "metadata": {},
     "output_type": "display_data"
    },
    {
     "data": {
      "text/latex": [
       "\\(\\left[ x=0.7861513777574233\\,i+6.310887241768094 \\times 10^{-30} , x=6.310887241768094 \\times 10^{-30}-0.7861513777574233\\,i , x=1.272019649514069 , x=-1.272019649514069 \\right] \\)"
      ],
      "text/plain": [
       "inline-value"
      ]
     },
     "metadata": {},
     "output_type": "display_data"
    }
   ],
   "source": [
    "SolveSolvable(x^4-x^2-1)$"
   ]
  },
  {
   "cell_type": "code",
   "execution_count": 8,
   "metadata": {},
   "outputs": [
    {
     "data": {
      "text/latex": [
       "Minimal polynomial of V"
      ],
      "text/plain": [
       "inline-value"
      ]
     },
     "metadata": {},
     "output_type": "display_data"
    },
    {
     "data": {
      "text/latex": [
       "\\(V^{10}+680\\,V^8+2520\\,V^7+210200\\,V^6+490896\\,V^5+35673600\\,V^4-83331360\\,V^3+2454234960\\,V^2-14953579200\\,V+35216146304\\)"
      ],
      "text/plain": [
       "inline-value"
      ]
     },
     "metadata": {},
     "output_type": "display_data"
    },
    {
     "data": {
      "text/latex": [
       "Galois Group of \\(x^5+20\\,x+32\\)"
      ],
      "text/plain": [
       "inline-value"
      ]
     },
     "metadata": {},
     "output_type": "display_data"
    },
    {
     "data": {
      "text/latex": [
       "\\(\\begin{pmatrix}a & b & c & d & e \\\\ a & e & d & c & b \\\\ b & a & c & e & d \\\\ b & d & e & c & a \\\\ c & d & a & b & e \\\\ c & e & b & a & d \\\\ d & b & e & a & c \\\\ d & c & a & e & b \\\\ e & a & d & b & c \\\\ e & c & b & d & a \\\\ \\end{pmatrix}\\)"
      ],
      "text/plain": [
       "inline-value"
      ]
     },
     "metadata": {},
     "output_type": "display_data"
    },
    {
     "data": {
      "text/latex": [
       "Subnormal series and quotients of orders"
      ],
      "text/plain": [
       "inline-value"
      ]
     },
     "metadata": {},
     "output_type": "display_data"
    },
    {
     "data": {
      "text/latex": [
       "FiniteGroup[1,24,26,42,61,69,83,86,101,112]"
      ],
      "text/plain": [
       "inline-value"
      ]
     },
     "metadata": {},
     "output_type": "display_data"
    },
    {
     "data": {
      "text/latex": [
       "FiniteGroup[1,42,69,86,101]"
      ],
      "text/plain": [
       "inline-value"
      ]
     },
     "metadata": {},
     "output_type": "display_data"
    },
    {
     "data": {
      "text/latex": [
       "FiniteGroup[1]"
      ],
      "text/plain": [
       "inline-value"
      ]
     },
     "metadata": {},
     "output_type": "display_data"
    },
    {
     "data": {
      "text/latex": [
       "\\(x^5+20\\,x+32\\) is solvable."
      ],
      "text/plain": [
       "inline-value"
      ]
     },
     "metadata": {},
     "output_type": "display_data"
    },
    {
     "data": {
      "text/latex": [
       "Solutions"
      ],
      "text/plain": [
       "inline-value"
      ]
     },
     "metadata": {},
     "output_type": "display_data"
    },
    {
     "data": {
      "text/latex": [
       "\\(x_{1}=\\frac{2097501829\\,\\alpha_{1}\\,\\alpha_{2}^4\\,{\\rm Z}_{5}^3}{251369028020440}+\\frac{12455802065\\,\\alpha_{2}^4\\,{\\rm Z}_{5}^3}{405433916162}-\\frac{8909727\\,\\alpha_{1}\\,\\alpha_{2}^3\\,{\\rm Z}_{5}^3}{374618521640}-\\frac{4968619\\,\\alpha_{2}^3\\,{\\rm Z}_{5}^3}{302111711}-\\frac{143907\\,\\alpha_{1}\\,\\alpha_{2}^2\\,{\\rm Z}_{5}^3}{1395747100}-\\frac{14386\\,\\alpha_{2}^2\\,{\\rm Z}_{5}^3}{450241}+\\frac{53\\,\\alpha_{2}\\,{\\rm Z}_{5}^3}{671}+\\frac{6656758267\\,\\alpha_{1}\\,\\alpha_{2}^4\\,{\\rm Z}_{5}^2}{502738056040880}-\\frac{1273339955\\,\\alpha_{2}^4\\,{\\rm Z}_{5}^2}{810867832324}-\\frac{3288357\\,\\alpha_{1}\\,\\alpha_{2}^3\\,{\\rm Z}_{5}^2}{187309260820}+\\frac{3440375\\,\\alpha_{2}^3\\,{\\rm Z}_{5}^2}{604223422}-\\frac{53699\\,\\alpha_{1}\\,\\alpha_{2}^2\\,{\\rm Z}_{5}^2}{1395747100}+\\frac{24927\\,\\alpha_{2}^2\\,{\\rm Z}_{5}^2}{450241}+\\frac{164\\,\\alpha_{2}\\,{\\rm Z}_{5}^2}{671}-\\frac{389153143\\,\\alpha_{1}\\,\\alpha_{2}^4\\,{\\rm Z}_{5}}{125684514010220}+\\frac{8256479885\\,\\alpha_{2}^4\\,{\\rm Z}_{5}}{405433916162}-\\frac{527207\\,\\alpha_{1}\\,\\alpha_{2}^3\\,{\\rm Z}_{5}}{93654630410}-\\frac{9054061\\,\\alpha_{2}^3\\,{\\rm Z}_{5}}{604223422}-\\frac{3827\\,\\alpha_{1}\\,\\alpha_{2}^2\\,{\\rm Z}_{5}}{90048200}-\\frac{40697\\,\\alpha_{2}^2\\,{\\rm Z}_{5}}{900482}+\\frac{4\\,\\alpha_{2}\\,{\\rm Z}_{5}}{671}+\\frac{4706285231\\,\\alpha_{1}\\,\\alpha_{2}^4}{251369028020440}+\\frac{3522461770\\,\\alpha_{2}^4}{202716958081}-\\frac{12270251\\,\\alpha_{1}\\,\\alpha_{2}^3}{374618521640}-\\frac{625848\\,\\alpha_{2}^3}{302111711}-\\frac{34702\\,\\alpha_{1}\\,\\alpha_{2}^2}{348936775}+\\frac{19485\\,\\alpha_{2}^2}{450241}+\\frac{150\\,\\alpha_{2}}{671}\\)"
      ],
      "text/plain": [
       "inline-value"
      ]
     },
     "metadata": {},
     "output_type": "display_data"
    },
    {
     "data": {
      "text/latex": [
       "\\(x_{2}=\\frac{79411439\\,\\alpha_{1}\\,\\alpha_{2}^4\\,{\\rm Z}_{5}^3}{16217356646480}-\\frac{26184944085\\,\\alpha_{2}^4\\,{\\rm Z}_{5}^3}{810867832324}+\\frac{2233943\\,\\alpha_{1}\\,\\alpha_{2}^3\\,{\\rm Z}_{5}^3}{187309260820}-\\frac{6247218\\,\\alpha_{2}^3\\,{\\rm Z}_{5}^3}{302111711}-\\frac{158979\\,\\alpha_{1}\\,\\alpha_{2}^2\\,{\\rm Z}_{5}^3}{2791494200}+\\frac{79667\\,\\alpha_{2}^2\\,{\\rm Z}_{5}^3}{900482}-\\frac{150\\,\\alpha_{2}\\,{\\rm Z}_{5}^3}{671}-\\frac{575161623\\,\\alpha_{1}\\,\\alpha_{2}^4\\,{\\rm Z}_{5}^2}{50273805604088}-\\frac{2099661090\\,\\alpha_{2}^4\\,{\\rm Z}_{5}^2}{202716958081}-\\frac{5693537\\,\\alpha_{1}\\,\\alpha_{2}^3\\,{\\rm Z}_{5}^2}{374618521640}-\\frac{4692071\\,\\alpha_{2}^3\\,{\\rm Z}_{5}^2}{604223422}+\\frac{3827\\,\\alpha_{1}\\,\\alpha_{2}^2\\,{\\rm Z}_{5}^2}{90048200}+\\frac{40697\\,\\alpha_{2}^2\\,{\\rm Z}_{5}^2}{900482}-\\frac{97\\,\\alpha_{2}\\,{\\rm Z}_{5}^2}{671}+\\frac{1304391701\\,\\alpha_{1}\\,\\alpha_{2}^4\\,{\\rm Z}_{5}}{125684514010220}-\\frac{5410878525\\,\\alpha_{2}^4\\,{\\rm Z}_{5}}{405433916162}+\\frac{3288357\\,\\alpha_{1}\\,\\alpha_{2}^3\\,{\\rm Z}_{5}}{187309260820}-\\frac{3440375\\,\\alpha_{2}^3\\,{\\rm Z}_{5}}{604223422}-\\frac{169177\\,\\alpha_{1}\\,\\alpha_{2}^2\\,{\\rm Z}_{5}}{2791494200}+\\frac{11925\\,\\alpha_{2}^2\\,{\\rm Z}_{5}}{900482}+\\frac{14\\,\\alpha_{2}\\,{\\rm Z}_{5}}{671}-\\frac{2097501829\\,\\alpha_{1}\\,\\alpha_{2}^4}{251369028020440}-\\frac{12455802065\\,\\alpha_{2}^4}{405433916162}-\\frac{2333013\\,\\alpha_{1}\\,\\alpha_{2}^3}{374618521640}-\\frac{13377613\\,\\alpha_{2}^3}{604223422}+\\frac{11239\\,\\alpha_{1}\\,\\alpha_{2}^2}{2791494200}+\\frac{90551\\,\\alpha_{2}^2}{900482}-\\frac{146\\,\\alpha_{2}}{671}\\)"
      ],
      "text/plain": [
       "inline-value"
      ]
     },
     "metadata": {},
     "output_type": "display_data"
    },
    {
     "data": {
      "text/latex": [
       "\\(x_{3}=\\frac{176922307\\,\\alpha_{1}\\,\\alpha_{2}^4\\,{\\rm Z}_{5}^3}{8108678323240}-\\frac{1211556345\\,\\alpha_{2}^4\\,{\\rm Z}_{5}^3}{405433916162}+\\frac{2333013\\,\\alpha_{1}\\,\\alpha_{2}^3\\,{\\rm Z}_{5}^3}{374618521640}+\\frac{13377613\\,\\alpha_{2}^3\\,{\\rm Z}_{5}^3}{604223422}+\\frac{34702\\,\\alpha_{1}\\,\\alpha_{2}^2\\,{\\rm Z}_{5}^3}{348936775}-\\frac{19485\\,\\alpha_{2}^2\\,{\\rm Z}_{5}^3}{450241}-\\frac{160\\,\\alpha_{2}\\,{\\rm Z}_{5}^3}{671}+\\frac{389153143\\,\\alpha_{1}\\,\\alpha_{2}^4\\,{\\rm Z}_{5}^2}{125684514010220}-\\frac{8256479885\\,\\alpha_{2}^4\\,{\\rm Z}_{5}^2}{405433916162}+\\frac{6800899\\,\\alpha_{1}\\,\\alpha_{2}^3\\,{\\rm Z}_{5}^2}{374618521640}+\\frac{883177\\,\\alpha_{2}^3\\,{\\rm Z}_{5}^2}{604223422}-\\frac{5099\\,\\alpha_{1}\\,\\alpha_{2}^2\\,{\\rm Z}_{5}^2}{1395747100}-\\frac{33871\\,\\alpha_{2}^2\\,{\\rm Z}_{5}^2}{450241}-\\frac{14\\,\\alpha_{2}\\,{\\rm Z}_{5}^2}{671}+\\frac{575161623\\,\\alpha_{1}\\,\\alpha_{2}^4\\,{\\rm Z}_{5}}{50273805604088}+\\frac{2099661090\\,\\alpha_{2}^4\\,{\\rm Z}_{5}}{202716958081}-\\frac{27101\\,\\alpha_{1}\\,\\alpha_{2}^3\\,{\\rm Z}_{5}}{3021117110}+\\frac{4342771\\,\\alpha_{2}^3\\,{\\rm Z}_{5}}{302111711}+\\frac{85109\\,\\alpha_{1}\\,\\alpha_{2}^2\\,{\\rm Z}_{5}}{1395747100}+\\frac{5442\\,\\alpha_{2}^2\\,{\\rm Z}_{5}}{450241}-\\frac{164\\,\\alpha_{2}\\,{\\rm Z}_{5}}{671}+\\frac{8213370839\\,\\alpha_{1}\\,\\alpha_{2}^4}{502738056040880}-\\frac{17786299725\\,\\alpha_{2}^4}{810867832324}+\\frac{8909727\\,\\alpha_{1}\\,\\alpha_{2}^3}{374618521640}+\\frac{4968619\\,\\alpha_{2}^3}{302111711}+\\frac{158979\\,\\alpha_{1}\\,\\alpha_{2}^2}{2791494200}-\\frac{79667\\,\\alpha_{2}^2}{900482}-\\frac{111\\,\\alpha_{2}}{671}\\)"
      ],
      "text/plain": [
       "inline-value"
      ]
     },
     "metadata": {},
     "output_type": "display_data"
    },
    {
     "data": {
      "text/latex": [
       "\\(x_{4}=-\\frac{8213370839\\,\\alpha_{1}\\,\\alpha_{2}^4\\,{\\rm Z}_{5}^3}{502738056040880}+\\frac{17786299725\\,\\alpha_{2}^4\\,{\\rm Z}_{5}^3}{810867832324}+\\frac{12270251\\,\\alpha_{1}\\,\\alpha_{2}^3\\,{\\rm Z}_{5}^3}{374618521640}+\\frac{625848\\,\\alpha_{2}^3\\,{\\rm Z}_{5}^3}{302111711}+\\frac{22552\\,\\alpha_{1}\\,\\alpha_{2}^2\\,{\\rm Z}_{5}^3}{348936775}+\\frac{39313\\,\\alpha_{2}^2\\,{\\rm Z}_{5}^3}{450241}+\\frac{146\\,\\alpha_{2}\\,{\\rm Z}_{5}^3}{671}+\\frac{551162439\\,\\alpha_{1}\\,\\alpha_{2}^4\\,{\\rm Z}_{5}^2}{100547611208176}+\\frac{15363187035\\,\\alpha_{2}^4\\,{\\rm Z}_{5}^2}{810867832324}+\\frac{27101\\,\\alpha_{1}\\,\\alpha_{2}^3\\,{\\rm Z}_{5}^2}{3021117110}-\\frac{4342771\\,\\alpha_{2}^3\\,{\\rm Z}_{5}^2}{302111711}+\\frac{169177\\,\\alpha_{1}\\,\\alpha_{2}^2\\,{\\rm Z}_{5}^2}{2791494200}-\\frac{11925\\,\\alpha_{2}^2\\,{\\rm Z}_{5}^2}{900482}-\\frac{4\\,\\alpha_{2}\\,{\\rm Z}_{5}^2}{671}-\\frac{6656758267\\,\\alpha_{1}\\,\\alpha_{2}^4\\,{\\rm Z}_{5}}{502738056040880}+\\frac{1273339955\\,\\alpha_{2}^4\\,{\\rm Z}_{5}}{810867832324}+\\frac{5693537\\,\\alpha_{1}\\,\\alpha_{2}^3\\,{\\rm Z}_{5}}{374618521640}+\\frac{4692071\\,\\alpha_{2}^3\\,{\\rm Z}_{5}}{604223422}+\\frac{5099\\,\\alpha_{1}\\,\\alpha_{2}^2\\,{\\rm Z}_{5}}{1395747100}+\\frac{33871\\,\\alpha_{2}^2\\,{\\rm Z}_{5}}{450241}+\\frac{49\\,\\alpha_{2}\\,{\\rm Z}_{5}}{671}-\\frac{79411439\\,\\alpha_{1}\\,\\alpha_{2}^4}{16217356646480}+\\frac{26184944085\\,\\alpha_{2}^4}{810867832324}+\\frac{10161423\\,\\alpha_{1}\\,\\alpha_{2}^3}{374618521640}-\\frac{7802365\\,\\alpha_{2}^3}{604223422}+\\frac{143907\\,\\alpha_{1}\\,\\alpha_{2}^2}{1395747100}+\\frac{14386\\,\\alpha_{2}^2}{450241}+\\frac{160\\,\\alpha_{2}}{671}\\)"
      ],
      "text/plain": [
       "inline-value"
      ]
     },
     "metadata": {},
     "output_type": "display_data"
    },
    {
     "data": {
      "text/latex": [
       "\\(x_{5}=-\\frac{4706285231\\,\\alpha_{1}\\,\\alpha_{2}^4\\,{\\rm Z}_{5}^3}{251369028020440}-\\frac{3522461770\\,\\alpha_{2}^4\\,{\\rm Z}_{5}^3}{202716958081}-\\frac{10161423\\,\\alpha_{1}\\,\\alpha_{2}^3\\,{\\rm Z}_{5}^3}{374618521640}+\\frac{7802365\\,\\alpha_{2}^3\\,{\\rm Z}_{5}^3}{604223422}-\\frac{11239\\,\\alpha_{1}\\,\\alpha_{2}^2\\,{\\rm Z}_{5}^3}{2791494200}-\\frac{90551\\,\\alpha_{2}^2\\,{\\rm Z}_{5}^3}{900482}+\\frac{111\\,\\alpha_{2}\\,{\\rm Z}_{5}^3}{671}-\\frac{1304391701\\,\\alpha_{1}\\,\\alpha_{2}^4\\,{\\rm Z}_{5}^2}{125684514010220}+\\frac{5410878525\\,\\alpha_{2}^4\\,{\\rm Z}_{5}^2}{405433916162}+\\frac{527207\\,\\alpha_{1}\\,\\alpha_{2}^3\\,{\\rm Z}_{5}^2}{93654630410}+\\frac{9054061\\,\\alpha_{2}^3\\,{\\rm Z}_{5}^2}{604223422}-\\frac{85109\\,\\alpha_{1}\\,\\alpha_{2}^2\\,{\\rm Z}_{5}^2}{1395747100}-\\frac{5442\\,\\alpha_{2}^2\\,{\\rm Z}_{5}^2}{450241}-\\frac{49\\,\\alpha_{2}\\,{\\rm Z}_{5}^2}{671}-\\frac{551162439\\,\\alpha_{1}\\,\\alpha_{2}^4\\,{\\rm Z}_{5}}{100547611208176}-\\frac{15363187035\\,\\alpha_{2}^4\\,{\\rm Z}_{5}}{810867832324}-\\frac{6800899\\,\\alpha_{1}\\,\\alpha_{2}^3\\,{\\rm Z}_{5}}{374618521640}-\\frac{883177\\,\\alpha_{2}^3\\,{\\rm Z}_{5}}{604223422}+\\frac{53699\\,\\alpha_{1}\\,\\alpha_{2}^2\\,{\\rm Z}_{5}}{1395747100}-\\frac{24927\\,\\alpha_{2}^2\\,{\\rm Z}_{5}}{450241}+\\frac{97\\,\\alpha_{2}\\,{\\rm Z}_{5}}{671}-\\frac{176922307\\,\\alpha_{1}\\,\\alpha_{2}^4}{8108678323240}+\\frac{1211556345\\,\\alpha_{2}^4}{405433916162}-\\frac{2233943\\,\\alpha_{1}\\,\\alpha_{2}^3}{187309260820}+\\frac{6247218\\,\\alpha_{2}^3}{302111711}-\\frac{22552\\,\\alpha_{1}\\,\\alpha_{2}^2}{348936775}-\\frac{39313\\,\\alpha_{2}^2}{450241}-\\frac{53\\,\\alpha_{2}}{671}\\)"
      ],
      "text/plain": [
       "inline-value"
      ]
     },
     "metadata": {},
     "output_type": "display_data"
    },
    {
     "data": {
      "text/latex": [
       "with"
      ],
      "text/plain": [
       "inline-value"
      ]
     },
     "metadata": {},
     "output_type": "display_data"
    },
    {
     "data": {
      "text/latex": [
       "\\(\\left[ \\left[ \\alpha_{2} , \\frac{30862\\,\\alpha_{1}\\,{\\rm Z}_{5}^3}{3875}-\\frac{266792\\,{\\rm Z}_{5}^3}{5}+\\frac{195166\\,\\alpha_{1}\\,{\\rm Z}_{5}^2}{3875}-\\frac{300992\\,{\\rm Z}_{5}^2}{5}+\\frac{264978\\,\\alpha_{1}\\,{\\rm Z}_{5}}{3875}-10640\\,{\\rm Z}_{5}+\\alpha_{2}^5+\\frac{143889\\,\\alpha_{1}}{3875}+\\frac{131404}{5} \\right]  , \\left[ {\\rm Z}_{5} , {\\rm Z}_{5}^4+{\\rm Z}_{5}^3+{\\rm Z}_{5}^2+{\\rm Z}_{5}+1 \\right]  , \\left[ \\alpha_{1} , \\alpha_{1}^2+1922000 \\right]  \\right] \\)"
      ],
      "text/plain": [
       "inline-value"
      ]
     },
     "metadata": {},
     "output_type": "display_data"
    },
    {
     "data": {
      "text/latex": [
       "Verification"
      ],
      "text/plain": [
       "inline-value"
      ]
     },
     "metadata": {},
     "output_type": "display_data"
    },
    {
     "data": {
      "text/latex": [
       "Numeric calcuration of the above solutions"
      ],
      "text/plain": [
       "inline-value"
      ]
     },
     "metadata": {},
     "output_type": "display_data"
    },
    {
     "data": {
      "text/latex": [
       "\\(\\left[ 1.551428884203548_B \\times 10^{0}\\,i+1.789855972552621_B \\times 10^{0} , 2.574113765728481_B \\times 10^{-13}\\,i-1.363962165089979_B \\times 10^{0} , -1.718789104441695_B \\times 10^{0}\\,i-1.10787489000788_B \\times 10^{0} , 1.789855972552441_B \\times 10^{0}-1.551428884204024_B \\times 10^{0}\\,i , 1.718789104441913_B \\times 10^{0}\\,i-1.107874890007202_B \\times 10^{0} \\right] \\)"
      ],
      "text/plain": [
       "inline-value"
      ]
     },
     "metadata": {},
     "output_type": "display_data"
    },
    {
     "data": {
      "text/latex": [
       "Numeric solutions with allroots( \\(x^5+20\\,x+32\\) )"
      ],
      "text/plain": [
       "inline-value"
      ]
     },
     "metadata": {},
     "output_type": "display_data"
    },
    {
     "data": {
      "text/latex": [
       "\\(\\left[ x=1.551428884203772\\,i+1.789855972552494 , x=1.789855972552494-1.551428884203772\\,i , x=-1.36396216508994 , x=1.718789104441751\\,i-1.107874890007524 , x=-1.718789104441751\\,i-1.107874890007524 \\right] \\)"
      ],
      "text/plain": [
       "inline-value"
      ]
     },
     "metadata": {},
     "output_type": "display_data"
    }
   ],
   "source": [
    "SolveSolvable(x^5+20*x+32)$"
   ]
  },
  {
   "cell_type": "code",
   "execution_count": 9,
   "metadata": {},
   "outputs": [
    {
     "data": {
      "text/latex": [
       "Minimal polynomial of V"
      ],
      "text/plain": [
       "inline-value"
      ]
     },
     "metadata": {},
     "output_type": "display_data"
    },
    {
     "data": {
      "text/latex": [
       "\\(V^{20}+12600\\,V^{17}-2592000\\,V^{16}-12474000\\,V^{15}+458560000\\,V^{14}-42739200000\\,V^{13}+3406119200000\\,V^{12}-14877702000000\\,V^{11}+442750816000000\\,V^{10}+10455017580000000\\,V^9+3651778300000000\\,V^8-3526347976200000000\\,V^7-620984167844000000000\\,V^6-15721039906614000000000\\,V^5-167373402726540000000000\\,V^4+4527623058336000000000000\\,V^3+190433238951748400000000000\\,V^2+2184836098290048000000000000\\,V+8034002595080831000000000000\\)"
      ],
      "text/plain": [
       "inline-value"
      ]
     },
     "metadata": {},
     "output_type": "display_data"
    },
    {
     "data": {
      "text/latex": [
       "Galois Group of \\(x^5+100\\,x^2+1000\\)"
      ],
      "text/plain": [
       "inline-value"
      ]
     },
     "metadata": {},
     "output_type": "display_data"
    },
    {
     "data": {
      "text/latex": [
       "\\(\\begin{pmatrix}a & b & c & d & e \\\\ a & c & e & b & d \\\\ a & d & b & e & c \\\\ a & e & d & c & b \\\\ b & a & c & e & d \\\\ b & c & d & a & e \\\\ b & d & e & c & a \\\\ b & e & a & d & c \\\\ c & a & e & d & b \\\\ c & b & d & e & a \\\\ c & d & a & b & e \\\\ c & e & b & a & d \\\\ d & a & b & c & e \\\\ d & b & e & a & c \\\\ d & c & a & e & b \\\\ d & e & c & b & a \\\\ e & a & d & b & c \\\\ e & b & a & c & d \\\\ e & c & b & d & a \\\\ e & d & c & a & b \\\\ \\end{pmatrix}\\)"
      ],
      "text/plain": [
       "inline-value"
      ]
     },
     "metadata": {},
     "output_type": "display_data"
    },
    {
     "data": {
      "text/latex": [
       "Subnormal series and quotients of orders"
      ],
      "text/plain": [
       "inline-value"
      ]
     },
     "metadata": {},
     "output_type": "display_data"
    },
    {
     "data": {
      "text/latex": [
       "FiniteGroup[1,11,14,24,26,33,42,44,54,58,61,69,73,83,86,96,101,103,112,119]"
      ],
      "text/plain": [
       "inline-value"
      ]
     },
     "metadata": {},
     "output_type": "display_data"
    },
    {
     "data": {
      "text/latex": [
       "FiniteGroup[1,24,26,42,61,69,83,86,101,112]"
      ],
      "text/plain": [
       "inline-value"
      ]
     },
     "metadata": {},
     "output_type": "display_data"
    },
    {
     "data": {
      "text/latex": [
       "FiniteGroup[1,42,69,86,101]"
      ],
      "text/plain": [
       "inline-value"
      ]
     },
     "metadata": {},
     "output_type": "display_data"
    },
    {
     "data": {
      "text/latex": [
       "FiniteGroup[1]"
      ],
      "text/plain": [
       "inline-value"
      ]
     },
     "metadata": {},
     "output_type": "display_data"
    },
    {
     "data": {
      "text/latex": [
       "\\(x^5+100\\,x^2+1000\\) is solvable."
      ],
      "text/plain": [
       "inline-value"
      ]
     },
     "metadata": {},
     "output_type": "display_data"
    },
    {
     "data": {
      "text/latex": [
       "Solutions"
      ],
      "text/plain": [
       "inline-value"
      ]
     },
     "metadata": {},
     "output_type": "display_data"
    },
    {
     "data": {
      "text/latex": [
       "\\(x_{1}=-\\frac{8154521255331899001489504256341621720956216141107659213882744488271\\,\\alpha_{1}\\,\\alpha_{2}\\,\\alpha_{3}^4\\,{\\rm Z}_{5}^3}{36595305942537194772046585811252576946288670321033071708547400318124032000000}+\\frac{4356017774088699742717132504187346012197148696984074018360457754171\\,\\alpha_{2}\\,\\alpha_{3}^4\\,{\\rm Z}_{5}^3}{5381662638608410995889203795772437786218922106034275251256970635018240000}+\\frac{18083834417680777891821730611111850799216664544210189861772081486539\\,\\alpha_{1}\\,\\alpha_{3}^4\\,{\\rm Z}_{5}^3}{9148826485634298693011646452813144236572167580258267927136850079531008000}-\\frac{4798168251085861196262154580274635036378452783592450313179574308849\\,\\alpha_{3}^4\\,{\\rm Z}_{5}^3}{3363539149130256872430752372357773616386826316271422032035606646886400}-\\frac{376517529541882247108434580104081601068567742854248559999865655743\\,\\alpha_{1}\\,\\alpha_{2}\\,\\alpha_{3}^3\\,{\\rm Z}_{5}^3}{151220272489823118892754486823357755976399464136500296316311571562496000000}+\\frac{288894369227877385458210263621870794831335197181605638118427195091\\,\\alpha_{2}\\,\\alpha_{3}^3\\,{\\rm Z}_{5}^3}{22238275366150458660699189238729081761235215314191220046516407582720000}+\\frac{14481831842528277248179774543177563187217913273586562593385730304487\\,\\alpha_{1}\\,\\alpha_{3}^3\\,{\\rm Z}_{5}^3}{756101362449115594463772434116788779881997320682501481581557857812480000}-\\frac{6642677662632953700306143723063930516271504700960366590743159647329\\,\\alpha_{3}^3\\,{\\rm Z}_{5}^3}{111191376830752293303495946193645408806176076570956100232582037913600}-\\frac{48244591054344258391433679217934876113534989429991626770269756714817\\,\\alpha_{1}\\,\\alpha_{2}\\,\\alpha_{3}^2\\,{\\rm Z}_{5}^3}{604881089959292475571017947293431023905597856546001185265246286249984000000}+\\frac{4474986194655392903326627816812413853539658099388420033962353196697\\,\\alpha_{2}\\,\\alpha_{3}^2\\,{\\rm Z}_{5}^3}{17790620292920366928559351390983265408988172251352976037213126066176000}+\\frac{2164528006297338436884789805441404393876240593795974894105331763242189\\,\\alpha_{1}\\,\\alpha_{3}^2\\,{\\rm Z}_{5}^3}{1209762179918584951142035894586862047811195713092002370530492572499968000}-\\frac{5032079162562026025053383953290457526463653399680683374712734273239323\\,\\alpha_{3}^2\\,{\\rm Z}_{5}^3}{889531014646018346427967569549163270449408612567648801860656303308800}+\\frac{39477427064121434740038847586681852450760505354563883970890288457757178279\\,\\alpha_{1}\\,\\alpha_{2}\\,\\alpha_{3}\\,{\\rm Z}_{5}^3}{3247001690901482008865224341071137736325249293938934362503842064589914112000000}-\\frac{17754548810600530670313369443244633144281191777851809121756090513443168131\\,\\alpha_{2}\\,\\alpha_{3}\\,{\\rm Z}_{5}^3}{477500248661982648362532991333990843577242543226313876838800303616163840000}+\\frac{199624724748126937393015365706327556663136067492049285602950893640849254819\\,\\alpha_{1}\\,\\alpha_{3}\\,{\\rm Z}_{5}^3}{1910000994647930593450131965335963374308970172905255507355201214464655360000}-\\frac{1518584743796233400623460665999231049327728933200455913584762951304291410887\\,\\alpha_{3}\\,{\\rm Z}_{5}^3}{4775002486619826483625329913339908435772425432263138768388003036161638400}+\\frac{3542183304001079962497803291063282388351237707115992937343553895650089089\\,\\alpha_{1}\\,\\alpha_{2}\\,{\\rm Z}_{5}^3}{18448873243758420504916047392449646229120734624653036150590011730624512000000}-\\frac{1582848304269071665275440010908201352558705402006654590897734874507304601\\,\\alpha_{2}\\,{\\rm Z}_{5}^3}{2713069594670355956605301087124947974870696268331328845675001725091840000}-\\frac{19603773670360476595979203703083082291043819393287407745224505485978419039\\,\\alpha_{1}\\,{\\rm Z}_{5}^3}{7379549297503368201966418956979858491648293849861214460236004692249804800}+\\frac{219334406603358513224270788632327868480539228850416623528084831190028026311\\,{\\rm Z}_{5}^3}{27130695946703559566053010871249479748706962683313288456750017250918400}-\\frac{43764198496746752089732277058022434336876047742140881165624022619\\,\\alpha_{1}\\,\\alpha_{2}\\,\\alpha_{3}^4\\,{\\rm Z}_{5}^2}{149980762059578667098551581193658102238887993118987998805522132451328000000}+\\frac{29577902953029466937001430095216263854642691214843330493314202441\\,\\alpha_{2}\\,\\alpha_{3}^4\\,{\\rm Z}_{5}^2}{44111988841052549146632817998134735952614115623231764354565333073920000}+\\frac{272566316899127683619081071163335142033184491390647773208508171857\\,\\alpha_{1}\\,\\alpha_{3}^4\\,{\\rm Z}_{5}^2}{37495190514894666774637895298414525559721998279746999701380533112832000}-\\frac{2229671340301206985992149631730553464660182843677434384772764288363\\,\\alpha_{3}^4\\,{\\rm Z}_{5}^2}{110279972102631372866582044995336839881535289058079410886413332684800}-\\frac{1684224303411043249791511508873329218335140030297665332379951450791\\,\\alpha_{1}\\,\\alpha_{2}\\,\\alpha_{3}^3\\,{\\rm Z}_{5}^2}{151220272489823118892754486823357755976399464136500296316311571562496000000}+\\frac{156877983680593040533476203894097323284461394289584411615894920659\\,\\alpha_{2}\\,\\alpha_{3}^3\\,{\\rm Z}_{5}^2}{4447655073230091732139837847745816352247043062838244009303281516544000}+\\frac{58416410378067164356914293109878233748977335328901934701703886592209\\,\\alpha_{1}\\,\\alpha_{3}^3\\,{\\rm Z}_{5}^2}{756101362449115594463772434116788779881997320682501481581557857812480000}-\\frac{4831664384126115534225560489821480627891674783913490582031401520271\\,\\alpha_{3}^3\\,{\\rm Z}_{5}^2}{22238275366150458660699189238729081761235215314191220046516407582720}+\\frac{8787828767429292558958176911831928013370076560727184684290397293223\\,\\alpha_{1}\\,\\alpha_{2}\\,\\alpha_{3}^2\\,{\\rm Z}_{5}^2}{604881089959292475571017947293431023905597856546001185265246286249984000000}-\\frac{1933529816824772608395092625260223779886714034785201953326751140299\\,\\alpha_{2}\\,\\alpha_{3}^2\\,{\\rm Z}_{5}^2}{88953101464601834642796756954916327044940861256764880186065630330880000}+\\frac{4153708841773596911799172851300845534011610505771325762479544502804237\\,\\alpha_{1}\\,\\alpha_{3}^2\\,{\\rm Z}_{5}^2}{1209762179918584951142035894586862047811195713092002370530492572499968000}-\\frac{9278193225163966249463849608686060990186479819578324821201692276214443\\,\\alpha_{3}^2\\,{\\rm Z}_{5}^2}{889531014646018346427967569549163270449408612567648801860656303308800}+\\frac{118431911870562887704504827564826451462336871673016574370233895792980581383\\,\\alpha_{1}\\,\\alpha_{2}\\,\\alpha_{3}\\,{\\rm Z}_{5}^2}{3247001690901482008865224341071137736325249293938934362503842064589914112000000}-\\frac{52978750539449857300423631713792358407958806930652968780297467592275406111\\,\\alpha_{2}\\,\\alpha_{3}\\,{\\rm Z}_{5}^2}{477500248661982648362532991333990843577242543226313876838800303616163840000}-\\frac{2022852111632773004522689712505904054559871374027815361689396134082122175099\\,\\alpha_{1}\\,\\alpha_{3}\\,{\\rm Z}_{5}^2}{32470016909014820088652243410711377363252492939389343625038420645899141120000}+\\frac{899997535979212494940208618273129168695644755322184113166603097119927658263\\,\\alpha_{3}\\,{\\rm Z}_{5}^2}{4775002486619826483625329913339908435772425432263138768388003036161638400}+\\frac{152867661883589642630111632022523832373504150178171370038010325227729199\\,\\alpha_{1}\\,\\alpha_{2}\\,{\\rm Z}_{5}^2}{18448873243758420504916047392449646229120734624653036150590011730624512000000}-\\frac{69937246835010847794393126387315825694923686909105283500280152377502051\\,\\alpha_{2}\\,{\\rm Z}_{5}^2}{2713069594670355956605301087124947974870696268331328845675001725091840000}-\\frac{108012996415122181249975107892877959082922317567396749164960585923244412551\\,\\alpha_{1}\\,{\\rm Z}_{5}^2}{36897746487516841009832094784899292458241469249306072301180023461249024000}+\\frac{241585114931843191725312699187811382516215960265506497170309732793370850011\\,{\\rm Z}_{5}^2}{27130695946703559566053010871249479748706962683313288456750017250918400}+\\frac{7573140533023865360700130905788101127693918215666136562105224997\\,\\alpha_{1}\\,\\alpha_{2}\\,\\alpha_{3}^4\\,{\\rm Z}_{5}}{1829765297126859738602329290562628847314433516051653585427370015906201600000}+\\frac{548815189933980262663166368651416768198444755569119732798579071999\\,\\alpha_{2}\\,\\alpha_{3}^4\\,{\\rm Z}_{5}}{2690831319304205497944601897886218893109461053017137625628485317509120000}+\\frac{78207568641464762476998717020277977206381842101854526367593249229507\\,\\alpha_{1}\\,\\alpha_{3}^4\\,{\\rm Z}_{5}}{9148826485634298693011646452813144236572167580258267927136850079531008000}-\\frac{32779395017954557651711714997751689315105125709795978167491053710929\\,\\alpha_{3}^4\\,{\\rm Z}_{5}}{1345415659652102748972300948943109446554730526508568812814242658754560}-\\frac{942642677125557952287325428409212897979696316142160397315723413017\\,\\alpha_{1}\\,\\alpha_{2}\\,\\alpha_{3}^3\\,{\\rm Z}_{5}}{75610136244911559446377243411678877988199732068250148158155785781248000000}+\\frac{449676765384430119981194558431456437663643602075913723031776420813\\,\\alpha_{2}\\,\\alpha_{3}^3\\,{\\rm Z}_{5}}{11119137683075229330349594619364540880617607657095610023258203791360000}+\\frac{32029617048051239049658217341617746263419504360885707705928150134463\\,\\alpha_{1}\\,\\alpha_{3}^3\\,{\\rm Z}_{5}}{378050681224557797231886217058394389940998660341250740790778928906240000}-\\frac{14975559665667246955311340172633625149316001026623826110999278935637\\,\\alpha_{3}^3\\,{\\rm Z}_{5}}{55595688415376146651747973096822704403088038285478050116291018956800}+\\frac{2236952231532215688674082014870219912985993402907623503860797617177\\,\\alpha_{1}\\,\\alpha_{2}\\,\\alpha_{3}^2\\,{\\rm Z}_{5}}{15122027248982311889275448682335775597639946413650029631631157156249600000}-\\frac{5099610330704699445054061779513624789257723333089081425454185966539\\,\\alpha_{2}\\,\\alpha_{3}^2\\,{\\rm Z}_{5}}{11119137683075229330349594619364540880617607657095610023258203791360000}+\\frac{387236025551478163723468900931926651388999707779548000081774410896573\\,\\alpha_{1}\\,\\alpha_{3}^2\\,{\\rm Z}_{5}}{151220272489823118892754486823357755976399464136500296316311571562496000}-\\frac{176186637223587394848870460225131298333128882971210522877263775234217\\,\\alpha_{3}^2\\,{\\rm Z}_{5}}{22238275366150458660699189238729081761235215314191220046516407582720}+\\frac{63768873362672021528754322832720806332491110520614622173012623182346148251\\,\\alpha_{1}\\,\\alpha_{2}\\,\\alpha_{3}\\,{\\rm Z}_{5}}{1623500845450741004432612170535568868162624646969467181251921032294957056000000}-\\frac{28544671633822694898644060562173081068813495367813462514471246103513910271\\,\\alpha_{2}\\,\\alpha_{3}\\,{\\rm Z}_{5}}{238750124330991324181266495666995421788621271613156938419400151808081920000}-\\frac{4376358578380783024141039293716618830757314397441513247504032563527740945193\\,\\alpha_{1}\\,\\alpha_{3}\\,{\\rm Z}_{5}}{16235008454507410044326121705355688681626246469694671812519210322949570560000}+\\frac{1958580434642577129162540892127131056330426974304634375269548548401713031243\\,\\alpha_{3}\\,{\\rm Z}_{5}}{2387501243309913241812664956669954217886212716131569384194001518080819200}-\\frac{4027158429885218532085634588840141981726706666332929450107653375393887\\,\\alpha_{1}\\,\\alpha_{2}\\,{\\rm Z}_{5}}{13565347973351779783026505435624739874353481341656644228375008625459200000}+\\frac{122555667488788778433718463589041102071037881800884271867574957313804061\\,\\alpha_{2}\\,{\\rm Z}_{5}}{135653479733517797830265054356247398743534813416566442283750086254592000}-\\frac{29636798154232055855809742585428365499430102955927926545094632441815387\\,\\alpha_{1}\\,{\\rm Z}_{5}}{67826739866758898915132527178123699371767406708283221141875043127296000}+\\frac{902766858063545873142966968034953152177410430248605322955189925876305131\\,{\\rm Z}_{5}}{678267398667588989151325271781236993717674067082832211418750431272960}+\\frac{5054432505292098137729055026167114357477297572129449476056189920127\\,\\alpha_{1}\\,\\alpha_{2}\\,\\alpha_{3}^4}{36595305942537194772046585811252576946288670321033071708547400318124032000000}-\\frac{3015952950228069631071426791808914268156038466856302299423864865019\\,\\alpha_{2}\\,\\alpha_{3}^4}{5381662638608410995889203795772437786218922106034275251256970635018240000}+\\frac{88022911127104554951004039601769912728848260760040369966991469697979\\,\\alpha_{1}\\,\\alpha_{3}^4}{18297652971268597386023292905626288473144335160516535854273700159062016000}-\\frac{133253710588963248561869580244351102175773639074535473648580382841893\\,\\alpha_{3}^4}{13454156596521027489723009489431094465547305265085688128142426587545600}-\\frac{94041740971071946569971792420226802916564841745273415667838533399\\,\\alpha_{1}\\,\\alpha_{2}\\,\\alpha_{3}^3}{18902534061227889861594310852919719497049933017062537039538946445312000000}+\\frac{221200792087750987110382632056951676125018551945089819291493368939\\,\\alpha_{2}\\,\\alpha_{3}^3}{11119137683075229330349594619364540880617607657095610023258203791360000}+\\frac{33378266958062029378761363994384849109012949992489140486873659857643\\,\\alpha_{1}\\,\\alpha_{3}^3}{756101362449115594463772434116788779881997320682501481581557857812480000}-\\frac{13091291238764492110913645755874670347770801711318447869826448871847\\,\\alpha_{3}^3}{111191376830752293303495946193645408806176076570956100232582037913600}+\\frac{1394742589627398061748888262135625321458063586171039512801474866371\\,\\alpha_{1}\\,\\alpha_{2}\\,\\alpha_{3}^2}{9451267030613944930797155426459859748524966508531268519769473222656000000}-\\frac{747703567115472240591973189139612314455973552227760735123744194877\\,\\alpha_{2}\\,\\alpha_{3}^2}{1779062029292036692855935139098326540898817225135297603721312606617600}+\\frac{549164586031188584246746510268132962481231941372681239971965709971481\\,\\alpha_{1}\\,\\alpha_{3}^2}{1209762179918584951142035894586862047811195713092002370530492572499968000}-\\frac{1333069817790403024137941033843272912024406100550519746388549052961309\\,\\alpha_{3}^2}{889531014646018346427967569549163270449408612567648801860656303308800}+\\frac{13576706578000210914675495040843485594063409887776277395099631320123517979\\,\\alpha_{1}\\,\\alpha_{2}\\,\\alpha_{3}}{811750422725370502216306085267784434081312323484733590625960516147478528000000}-\\frac{12181381301044437297623761599414557805218979182222561116987139053337616453\\,\\alpha_{2}\\,\\alpha_{3}}{238750124330991324181266495666995421788621271613156938419400151808081920000}-\\frac{3758533517178980126684592815815744011291263326920347890503179201985788348139\\,\\alpha_{1}\\,\\alpha_{3}}{16235008454507410044326121705355688681626246469694671812519210322949570560000}+\\frac{839047255334468191231803089133370960330802684116521940616063308587405727417\\,\\alpha_{3}}{1193750621654956620906332478334977108943106358065784692097000759040409600}-\\frac{348459046924351843862961877548726296449929888024778848492381488054098553\\,\\alpha_{1}\\,\\alpha_{2}}{1153054577734901281557252962028102889320045914040814759411875733164032000000}+\\frac{1246289278650032483046114262299213022380023933826109240310182116350597397\\,\\alpha_{2}}{1356534797335177978302650543562473987435348134165664422837500862545920000}+\\frac{25331820531229133426054147840496840442478422670515040981071546693357824101\\,\\alpha_{1}}{18448873243758420504916047392449646229120734624653036150590011730624512000}-\\frac{28282314812335505584140685354222770090525349143948602852259750344093350283}{6782673986675889891513252717812369937176740670828322114187504312729600}\\)"
      ],
      "text/plain": [
       "inline-value"
      ]
     },
     "metadata": {},
     "output_type": "display_data"
    },
    {
     "data": {
      "text/latex": [
       "\\(x_{2}=\\frac{1721917443236070973402555627545747698120223636811023679599122539537\\,\\alpha_{1}\\,\\alpha_{2}\\,\\alpha_{3}^4\\,{\\rm Z}_{5}^3}{7319061188507438954409317162250515389257734064206614341709480063624806400000}-\\frac{1086215349987494763623047506205126695345152648208908474767406238077\\,\\alpha_{2}\\,\\alpha_{3}^4\\,{\\rm Z}_{5}^3}{5381662638608410995889203795772437786218922106034275251256970635018240000}-\\frac{5031217370339488904119217247253390013512218085428437229951226412503\\,\\alpha_{1}\\,\\alpha_{3}^4\\,{\\rm Z}_{5}^3}{3659530594253719477204658581125257694628867032103307170854740031812403200}+\\frac{13077551572363500464490386345391828936624193426472780324498091988871\\,\\alpha_{3}^4\\,{\\rm Z}_{5}^3}{6727078298260513744861504744715547232773652632542844064071213293772800}+\\frac{210244941205159130293461825714596887993998083543125656119822631201\\,\\alpha_{1}\\,\\alpha_{2}\\,\\alpha_{3}^3\\,{\\rm Z}_{5}^3}{151220272489823118892754486823357755976399464136500296316311571562496000000}-\\frac{147684533308152114236928839630142903721731228419762750781122951897\\,\\alpha_{2}\\,\\alpha_{3}^3\\,{\\rm Z}_{5}^3}{22238275366150458660699189238729081761235215314191220046516407582720000}-\\frac{3341213094225735840302143183384957387004399550700709708017114087929\\,\\alpha_{1}\\,\\alpha_{3}^3\\,{\\rm Z}_{5}^3}{151220272489823118892754486823357755976399464136500296316311571562496000}+\\frac{1219513143210527031334421485873840759105278024362987193166733701369\\,\\alpha_{3}^3\\,{\\rm Z}_{5}^3}{22238275366150458660699189238729081761235215314191220046516407582720}-\\frac{273071982442152263911996343912580939958051471139661461974792851329\\,\\alpha_{1}\\,\\alpha_{2}\\,\\alpha_{3}^2\\,{\\rm Z}_{5}^3}{24195243598371699022840717891737240956223914261840047410609851449999360000}+\\frac{2716818179446093278166550009299912395169202639659884598998565195993\\,\\alpha_{2}\\,\\alpha_{3}^2\\,{\\rm Z}_{5}^3}{88953101464601834642796756954916327044940861256764880186065630330880000}-\\frac{825608381227593261264772576784910588679011758214441267117596376787547\\,\\alpha_{1}\\,\\alpha_{3}^2\\,{\\rm Z}_{5}^3}{1209762179918584951142035894586862047811195713092002370530492572499968000}+\\frac{1858459478626690150568878530689197073685752933462751002558823103593481\\,\\alpha_{3}^2\\,{\\rm Z}_{5}^3}{889531014646018346427967569549163270449408612567648801860656303308800}-\\frac{1389461299615858142527700883291333984887905549419247940349325633844925979\\,\\alpha_{1}\\,\\alpha_{2}\\,\\alpha_{3}\\,{\\rm Z}_{5}^3}{191000099464793059345013196533596337430897017290525550735520121446465536000000}+\\frac{10588507025550827472956552318590960178195656564308523126110038134510913707\\,\\alpha_{2}\\,\\alpha_{3}\\,{\\rm Z}_{5}^3}{477500248661982648362532991333990843577242543226313876838800303616163840000}-\\frac{170230699727082291341885834524050538292333440869352896818997778170752294857\\,\\alpha_{1}\\,\\alpha_{3}\\,{\\rm Z}_{5}^3}{6494003381802964017730448682142275472650498587877868725007684129179828224000}+\\frac{76616541960568032643565730353210685441088286714856431458909291887855684549\\,\\alpha_{3}\\,{\\rm Z}_{5}^3}{955000497323965296725065982667981687154485086452627753677600607232327680}-\\frac{381603099778519775719226393166576363472280113040299988132607552008254789\\,\\alpha_{1}\\,\\alpha_{2}\\,{\\rm Z}_{5}^3}{3689774648751684100983209478489929245824146924930607230118002346124902400000}+\\frac{170894920581316746799823820589802340629135573414443402806549381223169793\\,\\alpha_{2}\\,{\\rm Z}_{5}^3}{542613918934071191321060217424989594974139253666265769135000345018368000}+\\frac{69308101359493113260326614709004519164282194531873745267559831373028633373\\,\\alpha_{1}\\,{\\rm Z}_{5}^3}{36897746487516841009832094784899292458241469249306072301180023461249024000}-\\frac{155007942129568897741999110256449334256783600698400196290912736729545872737\\,{\\rm Z}_{5}^3}{27130695946703559566053010871249479748706962683313288456750017250918400}+\\frac{10701586501564351334083449809078903458796484010253459336184002443\\,\\alpha_{1}\\,\\alpha_{2}\\,\\alpha_{3}^4\\,{\\rm Z}_{5}^2}{59992304823831466839420632477463240895555197247595199522208852980531200000}-\\frac{6720877613100441069089898500002490872108879441063674664698674621\\,\\alpha_{2}\\,\\alpha_{3}^4\\,{\\rm Z}_{5}^2}{22055994420526274573316408999067367976307057811615882177282666536960000}-\\frac{31601740540413319861641582279727708378695090008488128225494515129\\,\\alpha_{1}\\,\\alpha_{3}^4\\,{\\rm Z}_{5}^2}{7057918214568407863461250879701557752418258499717082296730453291827200}+\\frac{6851952466164105933830876824403964204761920985666781467039099447459\\,\\alpha_{3}^4\\,{\\rm Z}_{5}^2}{441119888410525491466328179981347359526141156232317643545653330739200}+\\frac{925635322223680621222736812616709026159278447825253526409992365037\\,\\alpha_{1}\\,\\alpha_{2}\\,\\alpha_{3}^3\\,{\\rm Z}_{5}^2}{151220272489823118892754486823357755976399464136500296316311571562496000000}-\\frac{77870504209555878693977334904865592038760814673642094619235612437\\,\\alpha_{2}\\,\\alpha_{3}^3\\,{\\rm Z}_{5}^2}{4447655073230091732139837847745816352247043062838244009303281516544000}-\\frac{8790807514282721921463033172194186407242196105682210972921626889629\\,\\alpha_{1}\\,\\alpha_{3}^3\\,{\\rm Z}_{5}^2}{151220272489823118892754486823357755976399464136500296316311571562496000}+\\frac{737707005142114940747320660573278880045694124075964301874918792997\\,\\alpha_{3}^3\\,{\\rm Z}_{5}^2}{4447655073230091732139837847745816352247043062838244009303281516544}-\\frac{14548066510721572602128940275873716273535686270900820772383022142353\\,\\alpha_{1}\\,\\alpha_{2}\\,\\alpha_{3}^2\\,{\\rm Z}_{5}^2}{120976217991858495114203589458686204781119571309200237053049257249996800000}+\\frac{32036396652988534969833346651974087055861891768190592765977037572941\\,\\alpha_{2}\\,\\alpha_{3}^2\\,{\\rm Z}_{5}^2}{88953101464601834642796756954916327044940861256764880186065630330880000}+\\frac{554448729621634250924573497919152253225152960173532797744158985810853\\,\\alpha_{1}\\,\\alpha_{3}^2\\,{\\rm Z}_{5}^2}{1209762179918584951142035894586862047811195713092002370530492572499968000}-\\frac{1299948890962971615090376526908175593804009433178972716851508436522239\\,\\alpha_{3}^2\\,{\\rm Z}_{5}^2}{889531014646018346427967569549163270449408612567648801860656303308800}-\\frac{64244090438898103621679863000653260673435568036427692161096130907162939171\\,\\alpha_{1}\\,\\alpha_{2}\\,\\alpha_{3}\\,{\\rm Z}_{5}^2}{3247001690901482008865224341071137736325249293938934362503842064589914112000000}+\\frac{28705756123995011853563846927477146152432346363910895401168582726032576447\\,\\alpha_{2}\\,\\alpha_{3}\\,{\\rm Z}_{5}^2}{477500248661982648362532991333990843577242543226313876838800303616163840000}+\\frac{600689155291983559465075220058788706057931187244676327414465590888869149573\\,\\alpha_{1}\\,\\alpha_{3}\\,{\\rm Z}_{5}^2}{6494003381802964017730448682142275472650498587877868725007684129179828224000}-\\frac{268298988971052341116608411952202599176151515745420026494219543705569369417\\,\\alpha_{3}\\,{\\rm Z}_{5}^2}{955000497323965296725065982667981687154485086452627753677600607232327680}+\\frac{11491966104906118628801596089873316979779665320378916025075567057891717\\,\\alpha_{1}\\,\\alpha_{2}\\,{\\rm Z}_{5}^2}{3689774648751684100983209478489929245824146924930607230118002346124902400000}-\\frac{5085877797329289269155024296733073776376640501085781788739328225723797\\,\\alpha_{2}\\,{\\rm Z}_{5}^2}{542613918934071191321060217424989594974139253666265769135000345018368000}+\\frac{69968061834586343616656643917949233863002871881368581419510231825304840973\\,\\alpha_{1}\\,{\\rm Z}_{5}^2}{36897746487516841009832094784899292458241469249306072301180023461249024000}-\\frac{156418358132691023423437005603566224865981472829396761734588206970109916137\\,{\\rm Z}_{5}^2}{27130695946703559566053010871249479748706962683313288456750017250918400}+\\frac{186019293159605049467089827898164044663980303348395894272980533429\\,\\alpha_{1}\\,\\alpha_{2}\\,\\alpha_{3}^4\\,{\\rm Z}_{5}}{3659530594253719477204658581125257694628867032103307170854740031812403200000}+\\frac{15600029781483525813298423623674049650078438147184001772149521551\\,\\alpha_{2}\\,\\alpha_{3}^4\\,{\\rm Z}_{5}}{1345415659652102748972300948943109446554730526508568812814242658754560000}-\\frac{506040492442517314147788931147317029596340877319765425942842208591\\,\\alpha_{1}\\,\\alpha_{3}^4\\,{\\rm Z}_{5}}{86106602217734575934227260732359004579502753696548404020111530160291840}+\\frac{82270483848846691913654375439459838359571482324710768891594003379369\\,\\alpha_{3}^4\\,{\\rm Z}_{5}}{5381662638608410995889203795772437786218922106034275251256970635018240}+\\frac{468616941772353181488522849479509217295700062497331159983444777319\\,\\alpha_{1}\\,\\alpha_{2}\\,\\alpha_{3}^3\\,{\\rm Z}_{5}}{75610136244911559446377243411678877988199732068250148158155785781248000000}-\\frac{233983708122045144435123622632912382944460788385659607998717347031\\,\\alpha_{2}\\,\\alpha_{3}^3\\,{\\rm Z}_{5}}{11119137683075229330349594619364540880617607657095610023258203791360000}-\\frac{908262323180299932105873379528029104550914078942039369472836583749\\,\\alpha_{1}\\,\\alpha_{3}^3\\,{\\rm Z}_{5}}{15122027248982311889275448682335775597639946413650029631631157156249600}+\\frac{2018446506171793679490342932449024810851721726145755222436056555929\\,\\alpha_{3}^3\\,{\\rm Z}_{5}}{11119137683075229330349594619364540880617607657095610023258203791360}-\\frac{330886513244547657262578983685670589454422787092769577182203959297\\,\\alpha_{1}\\,\\alpha_{2}\\,\\alpha_{3}^2\\,{\\rm Z}_{5}}{1890253406122788986159431085291971949704993301706253703953894644531200000}+\\frac{5933002163249908142319709239431858212301577556344888315683291752843\\,\\alpha_{2}\\,\\alpha_{3}^2\\,{\\rm Z}_{5}}{11119137683075229330349594619364540880617607657095610023258203791360000}+\\frac{113849487200787678510684146809620593735701274751802013938371865444653\\,\\alpha_{1}\\,\\alpha_{3}^2\\,{\\rm Z}_{5}}{60488108995929247557101794729343102390559785654600118526524628624998400}-\\frac{252670350475480143354369752621800894692953698191501122730296312091693\\,\\alpha_{3}^2\\,{\\rm Z}_{5}}{44476550732300917321398378477458163522470430628382440093032815165440}-\\frac{32802373459412359275436355257282878200381155673578084637612579522351877807\\,\\alpha_{1}\\,\\alpha_{2}\\,\\alpha_{3}\\,{\\rm Z}_{5}}{1623500845450741004432612170535568868162624646969467181251921032294957056000000}+\\frac{14685124360968174894829060648396692226144465873975712362554034930830215067\\,\\alpha_{2}\\,\\alpha_{3}\\,{\\rm Z}_{5}}{238750124330991324181266495666995421788621271613156938419400151808081920000}+\\frac{124793733541368881569335861217969725633156709483357009854554823264967482273\\,\\alpha_{1}\\,\\alpha_{3}\\,{\\rm Z}_{5}}{649400338180296401773044868214227547265049858787786872500768412917982822400}-\\frac{278967741797818016325248078897758623874580601729702097034666657726294712599\\,\\alpha_{3}\\,{\\rm Z}_{5}}{477500248661982648362532991333990843577242543226313876838800303616163840}+\\frac{9360287189534235843330310394772990827056035646605329611280343134636871\\,\\alpha_{1}\\,\\alpha_{2}\\,{\\rm Z}_{5}}{54261391893407119132106021742498959497413925366626576913500034501836800000}-\\frac{17783620758189747825531463566968284214299124758631502773530369641095003\\,\\alpha_{2}\\,{\\rm Z}_{5}}{33913369933379449457566263589061849685883703354141610570937521563648000}+\\frac{121786851659726825751054385650682665171679381205376564448580628990603\\,\\alpha_{1}\\,{\\rm Z}_{5}}{4340911351472569530568481739399916759793114029330126153080002760146944}-\\frac{23551091892941387315440206959202320514006294392353731017137362509725407\\,{\\rm Z}_{5}}{271306959467035595660530108712494797487069626833132884567500172509184}-\\frac{7402916430905929836459332087067694029076532532586314382126165641\\,\\alpha_{1}\\,\\alpha_{2}\\,\\alpha_{3}^4}{7319061188507438954409317162250515389257734064206614341709480063624806400000}+\\frac{2998591547647058535134751507285936501437078890975001398774570703557\\,\\alpha_{2}\\,\\alpha_{3}^4}{5381662638608410995889203795772437786218922106034275251256970635018240000}-\\frac{9462773118457638326570984377367079821432841789606047028630371372951\\,\\alpha_{1}\\,\\alpha_{3}^4}{4574413242817149346505823226406572118286083790129133963568425039765504000}+\\frac{92285381911209907423811219047054486734846922993790439870415612906341\\,\\alpha_{3}^4}{13454156596521027489723009489431094465547305265085688128142426587545600}+\\frac{219589180121320087652966821244086104523662721679565692827086498847\\,\\alpha_{1}\\,\\alpha_{2}\\,\\alpha_{3}^3}{75610136244911559446377243411678877988199732068250148158155785781248000000}-\\frac{51470666783941128482043154918807300872506226687514961248119501659\\,\\alpha_{2}\\,\\alpha_{3}^3}{5559568841537614665174797309682270440308803828547805011629101895680000}-\\frac{2195012027547398677552286325321456771481413603538927993878902500121\\,\\alpha_{1}\\,\\alpha_{3}^3}{75610136244911559446377243411678877988199732068250148158155785781248000}+\\frac{24286445458512936747658116060116135933905641910384708006248930009\\,\\alpha_{3}^3}{347473052596100916573424831855141902519300239284237813226818868480}-\\frac{6238360104426396858197199800226495506812931073937218169162784137777\\,\\alpha_{1}\\,\\alpha_{2}\\,\\alpha_{3}^2}{60488108995929247557101794729343102390559785654600118526524628624998400000}+\\frac{6786047968353344996597289505446306149402080212917798307439497201733\\,\\alpha_{2}\\,\\alpha_{3}^2}{22238275366150458660699189238729081761235215314191220046516407582720000}+\\frac{1918631856555508120961630866782421983453388342202652730369797462001367\\,\\alpha_{1}\\,\\alpha_{3}^2}{1209762179918584951142035894586862047811195713092002370530492572499968000}-\\frac{4342385926981127894239646412351921460303606203716568721070028285295847\\,\\alpha_{3}^2}{889531014646018346427967569549163270449408612567648801860656303308800}-\\frac{12981200914143120363901512348099760678199614727796388426425883841601892041\\,\\alpha_{1}\\,\\alpha_{2}\\,\\alpha_{3}}{1623500845450741004432612170535568868162624646969467181251921032294957056000000}+\\frac{2900270391121200976400028315051331797946830227923256586286073942773812193\\,\\alpha_{2}\\,\\alpha_{3}}{119375062165495662090633247833497710894310635806578469209700075904040960000}+\\frac{438939789332866198876394621872785093384544134817017221876177051737934894187\\,\\alpha_{1}\\,\\alpha_{3}}{3247001690901482008865224341071137736325249293938934362503842064589914112000}-\\frac{4898738659602290914365818789457897062946494277578226401943277911818122813\\,\\alpha_{3}}{11937506216549566209063324783349771089431063580657846920970007590404096}+\\frac{314765408723728936743987172073833675144379327688318708553876398059971797\\,\\alpha_{1}\\,\\alpha_{2}}{1844887324375842050491604739244964622912073462465303615059001173062451200000}-\\frac{35166860997155943816085016396865303228385560466057184657289724355179511\\,\\alpha_{2}}{67826739866758898915132527178123699371767406708283221141875043127296000}-\\frac{21094979954972330942253109282388846423765012866884194679863026112991206041\\,\\alpha_{1}}{18448873243758420504916047392449646229120734624653036150590011730624512000}+\\frac{5897241645676638037398692893573108760819738365592981223735483739202162729}{1695668496668972472878313179453092484294185167707080528546876078182400}\\)"
      ],
      "text/plain": [
       "inline-value"
      ]
     },
     "metadata": {},
     "output_type": "display_data"
    },
    {
     "data": {
      "text/latex": [
       "\\(x_{3}=-\\frac{649644446822947039872735435998766636716556888793659996338116012549\\,\\alpha_{1}\\,\\alpha_{2}\\,\\alpha_{3}^4\\,{\\rm Z}_{5}^3}{1663422997388054307820299355056935315740394105501503259479427287187456000000}+\\frac{52215090350276065200319866454145809023633016289697435890024311337\\,\\alpha_{2}\\,\\alpha_{3}^4\\,{\\rm Z}_{5}^3}{48924205805531009053538216325203979874717473691220684102336096681984000}-\\frac{25651111973020933287296166691421050423475176374215062538310841034659\\,\\alpha_{1}\\,\\alpha_{3}^4\\,{\\rm Z}_{5}^3}{4574413242817149346505823226406572118286083790129133963568425039765504000}+\\frac{20082934885156441564880913985979756074808114592429208036303326641897\\,\\alpha_{3}^4\\,{\\rm Z}_{5}^3}{1345415659652102748972300948943109446554730526508568812814242658754560}-\\frac{7308623483125087917095168220732281854186451519451800508427960029\\,\\alpha_{1}\\,\\alpha_{2}\\,\\alpha_{3}^3\\,{\\rm Z}_{5}^3}{1374729749907482899025040789303252327058176946695457239239196105113600000}+\\frac{2674694063922608728640655637077001402558610614393665928443373253\\,\\alpha_{2}\\,\\alpha_{3}^3\\,{\\rm Z}_{5}^3}{202166139692276896915447174897537106920320139219920182241058250752000}-\\frac{25953842723991654497752128312419606987443801625199905938250088495367\\,\\alpha_{1}\\,\\alpha_{3}^3\\,{\\rm Z}_{5}^3}{378050681224557797231886217058394389940998660341250740790778928906240000}+\\frac{11912294859522835223433269618328569186310121016096164166662258660879\\,\\alpha_{3}^3\\,{\\rm Z}_{5}^3}{55595688415376146651747973096822704403088038285478050116291018956800}-\\frac{3017103946073612289931414342660331128469902746389100913840988748063\\,\\alpha_{1}\\,\\alpha_{2}\\,\\alpha_{3}^2\\,{\\rm Z}_{5}^3}{27494594998149657980500815786065046541163538933909144784783922102272000000}+\\frac{1358783411928257658805449087174662690298334704244387793132162514791\\,\\alpha_{2}\\,\\alpha_{3}^2\\,{\\rm Z}_{5}^3}{4043322793845537938308943497950742138406402784398403644821165015040000}-\\frac{198771101905395563245342817107753091457903487003565346399716531433543\\,\\alpha_{1}\\,\\alpha_{3}^2\\,{\\rm Z}_{5}^3}{604881089959292475571017947293431023905597856546001185265246286249984000}+\\frac{100191774162320232706686129238759954625861447592214803640938955275617\\,\\alpha_{3}^2\\,{\\rm Z}_{5}^3}{88953101464601834642796756954916327044940861256764880186065630330880}+\\frac{2230692924229392573750283975896963520761733788887095435674503816827473521\\,\\alpha_{1}\\,\\alpha_{2}\\,\\alpha_{3}\\,{\\rm Z}_{5}^3}{324700169090148200886522434107113773632524929393893436250384206458991411200000}-\\frac{993294188026197846457850103158167705249987038419909932746260406240424841\\,\\alpha_{2}\\,\\alpha_{3}\\,{\\rm Z}_{5}^3}{47750024866198264836253299133399084357724254322631387683880030361616384000}+\\frac{640960911967061890589194587667608122639095801064190067952322038146403376177\\,\\alpha_{1}\\,\\alpha_{3}\\,{\\rm Z}_{5}^3}{1475909859500673640393283791395971698329658769972242892047200938449960960000}-\\frac{286809451098175786887698836441461929281030853547995820420638840731441898733\\,\\alpha_{3}\\,{\\rm Z}_{5}^3}{217045567573628476528424086969995837989655701466506307654000138007347200}+\\frac{3579847198050656050646534529347441918083533797569569017906411004507404191\\,\\alpha_{1}\\,\\alpha_{2}\\,{\\rm Z}_{5}^3}{9224436621879210252458023696224823114560367312326518075295005865312256000000}-\\frac{1601529792846717706334107252456774899773407095872855562582710997670960139\\,\\alpha_{2}\\,{\\rm Z}_{5}^3}{1356534797335177978302650543562473987435348134165664422837500862545920000}+\\frac{4209433337769723961773257424816364825571062632568652000306388804148425631\\,\\alpha_{1}\\,{\\rm Z}_{5}^3}{1677170294887129136810549762949967839010975874968457831871819248238592000}-\\frac{1883251151365554647417160821620638558892260157499065608888725858863981391\\,{\\rm Z}_{5}^3}{246642690424577814236845553374995270442790569848302622334091065917440}-\\frac{10611229683687886157577593385150009732679166825142284979985044727\\,\\alpha_{1}\\,\\alpha_{2}\\,\\alpha_{3}^4\\,{\\rm Z}_{5}^2}{13634614732688969736231961926696191112626181192635272618683830222848000000}+\\frac{493867613800787816164332505819450946447315379682590237525838833\\,\\alpha_{2}\\,\\alpha_{3}^4\\,{\\rm Z}_{5}^2}{200509040186602496121058263627885163420973252832871656157115150336000}+\\frac{116208417852102061507506276742774911720760296935651163061741751823\\,\\alpha_{1}\\,\\alpha_{3}^4\\,{\\rm Z}_{5}^2}{299961524119157334197103162387316204477775986237975997611044264902656000}-\\frac{25377275787659250540455145174689012524146975932191184359003935389\\,\\alpha_{3}^4\\,{\\rm Z}_{5}^2}{8822397768210509829326563599626947190522823124646352870913066614784}-\\frac{22299395995704365769880089438498850031477345438542458192086736073\\,\\alpha_{1}\\,\\alpha_{2}\\,\\alpha_{3}^3\\,{\\rm Z}_{5}^2}{1374729749907482899025040789303252327058176946695457239239196105113600000}+\\frac{9775106907389933186759324572906403793229194064893370039461750661\\,\\alpha_{2}\\,\\alpha_{3}^3\\,{\\rm Z}_{5}^2}{202166139692276896915447174897537106920320139219920182241058250752000}-\\frac{94155706112113750464722195974978734455053883873822799573985991168779\\,\\alpha_{1}\\,\\alpha_{3}^3\\,{\\rm Z}_{5}^2}{378050681224557797231886217058394389940998660341250740790778928906240000}+\\frac{8298912446813615773872956204882914809334404868903800458552995645803\\,\\alpha_{3}^3\\,{\\rm Z}_{5}^2}{11119137683075229330349594619364540880617607657095610023258203791360}+\\frac{745083042937087107432687571304818599907608927295501266200586167717\\,\\alpha_{1}\\,\\alpha_{2}\\,\\alpha_{3}^2\\,{\\rm Z}_{5}^2}{27494594998149657980500815786065046541163538933909144784783922102272000000}-\\frac{377985413590453062387917002567759418437908725915943529442068796069\\,\\alpha_{2}\\,\\alpha_{3}^2\\,{\\rm Z}_{5}^2}{4043322793845537938308943497950742138406402784398403644821165015040000}+\\frac{1038031543162284039620799476748084280850972792678858563811740312698729\\,\\alpha_{1}\\,\\alpha_{3}^2\\,{\\rm Z}_{5}^2}{604881089959292475571017947293431023905597856546001185265246286249984000}-\\frac{459959251048388667339127729530203064547868642956873043810328316179399\\,\\alpha_{3}^2\\,{\\rm Z}_{5}^2}{88953101464601834642796756954916327044940861256764880186065630330880}+\\frac{13730959800686489035196361225367523837615690018593210657799869413317050833\\,\\alpha_{1}\\,\\alpha_{2}\\,\\alpha_{3}\\,{\\rm Z}_{5}^2}{324700169090148200886522434107113773632524929393893436250384206458991411200000}-\\frac{6138345313627215382586028583763151947801409949287502205581440071203543229\\,\\alpha_{2}\\,\\alpha_{3}\\,{\\rm Z}_{5}^2}{47750024866198264836253299133399084357724254322631387683880030361616384000}+\\frac{1403266148543371797079937741657962404034211392982499902039862992409683055819\\,\\alpha_{1}\\,\\alpha_{3}\\,{\\rm Z}_{5}^2}{1475909859500673640393283791395971698329658769972242892047200938449960960000}-\\frac{627464389779711371445008132705209815311941060113153924053587755276241035223\\,\\alpha_{3}\\,{\\rm Z}_{5}^2}{217045567573628476528424086969995837989655701466506307654000138007347200}+\\frac{1942003013093629766145675340372938156008736439609311930336349930417676441\\,\\alpha_{1}\\,\\alpha_{2}\\,{\\rm Z}_{5}^2}{9224436621879210252458023696224823114560367312326518075295005865312256000000}-\\frac{868086470343094633657987258276431488630779644984314921732997383113155089\\,\\alpha_{2}\\,{\\rm Z}_{5}^2}{1356534797335177978302650543562473987435348134165664422837500862545920000}-\\frac{5393149098372621035515797425746840122687849534281638909917127788875921353\\,\\alpha_{1}\\,{\\rm Z}_{5}^2}{1677170294887129136810549762949967839010975874968457831871819248238592000}+\\frac{2411467588454508902078746801141115277968126147359716116579735375139000769\\,{\\rm Z}_{5}^2}{246642690424577814236845553374995270442790569848302622334091065917440}-\\frac{109601971808817379461673639883324918076683855235732718228112935581\\,\\alpha_{1}\\,\\alpha_{2}\\,\\alpha_{3}^4\\,{\\rm Z}_{5}}{166342299738805430782029935505693531574039410550150325947942728718745600000}+\\frac{22893748624679022783562156722500887330409235837206016277475786633\\,\\alpha_{2}\\,\\alpha_{3}^4\\,{\\rm Z}_{5}}{12231051451382752263384554081300994968679368422805171025584024170496000}+\\frac{165002270314869298398155730053824142716116778717408552601405530227517\\,\\alpha_{1}\\,\\alpha_{3}^4\\,{\\rm Z}_{5}}{18297652971268597386023292905626288473144335160516535854273700159062016000}-\\frac{74416121320713632708146869942652962120068075321811585464971557447039\\,\\alpha_{3}^4\\,{\\rm Z}_{5}}{2690831319304205497944601897886218893109461053017137625628485317509120}-\\frac{12568103918351335966854793027883480878976289649055692579037208171\\,\\alpha_{1}\\,\\alpha_{2}\\,\\alpha_{3}^3\\,{\\rm Z}_{5}}{687364874953741449512520394651626163529088473347728619619598052556800000}+\\frac{5502318536032744862832630619413861456327121566776197609336437163\\,\\alpha_{2}\\,\\alpha_{3}^3\\,{\\rm Z}_{5}}{101083069846138448457723587448768553460160069609960091120529125376000}-\\frac{3154708390163117787293886776012648722566021605918672720697671374619\\,\\alpha_{1}\\,\\alpha_{3}^3\\,{\\rm Z}_{5}}{11119137683075229330349594619364540880617607657095610023258203791360000}+\\frac{24263331937726354048310646692648236366247584832490622623438078747587\\,\\alpha_{3}^3\\,{\\rm Z}_{5}}{27797844207688073325873986548411352201544019142739025058145509478400}+\\frac{9693911099026075293392703937764515742806338428443222045220194981\\,\\alpha_{1}\\,\\alpha_{2}\\,\\alpha_{3}^2\\,{\\rm Z}_{5}}{42960304684608840594532524665726635220568029584233038726224878284800000}-\\frac{68575711857596912882911352681887921540859071055861701359038830953\\,\\alpha_{2}\\,\\alpha_{3}^2\\,{\\rm Z}_{5}}{101083069846138448457723587448768553460160069609960091120529125376000}+\\frac{505474805304243774959818881170929259942244787511022316945792371999919\\,\\alpha_{1}\\,\\alpha_{3}^2\\,{\\rm Z}_{5}}{151220272489823118892754486823357755976399464136500296316311571562496000}-\\frac{225063304043528665878675571192951257191316934646377123512676681411611\\,\\alpha_{3}^2\\,{\\rm Z}_{5}}{22238275366150458660699189238729081761235215314191220046516407582720}+\\frac{547434154477385060913043671360227669553103982118295243916195057666252489\\,\\alpha_{1}\\,\\alpha_{2}\\,\\alpha_{3}\\,{\\rm Z}_{5}}{9550004973239652967250659826679816871544850864526277536776006072323276800000}-\\frac{166453180020581139975742557300755445594053791405737074949605452614526957\\,\\alpha_{2}\\,\\alpha_{3}\\,{\\rm Z}_{5}}{955000497323965296725065982667981687154485086452627753677600607232327680}+\\frac{616454015008787102173221719402343508722637389666677304756285770756038424523\\,\\alpha_{1}\\,\\alpha_{3}\\,{\\rm Z}_{5}}{737954929750336820196641895697985849164829384986121446023600469224980480000}-\\frac{275778374514547028461668281347886114891978542319263081296675371846362283233\\,\\alpha_{3}\\,{\\rm Z}_{5}}{108522783786814238264212043484997918994827850733253153827000069003673600}-\\frac{312062399851478920463615244698601224575760859553115311283448773345809\\,\\alpha_{1}\\,\\alpha_{2}\\,{\\rm Z}_{5}}{1085227837868142382642120434849979189948278507332531538270000690036736000}+\\frac{370513673040726462058902997367944870815222626382624645065589795101177\\,\\alpha_{2}\\,{\\rm Z}_{5}}{423917124167243118219578294863273121073546291926770132136719019545600}-\\frac{228501295112078402535063183561558633327653262434883820129160461492935719\\,\\alpha_{1}\\,{\\rm Z}_{5}}{24664269042457781423684555337499527044279056984830262233409106591744000}+\\frac{1737162646995301068348120309165619848139912308963634079461497228378416143\\,{\\rm Z}_{5}}{61660672606144453559211388343748817610697642462075655583522766479360}-\\frac{223560135013194217358770825009932906203791118294217967102570889907\\,\\alpha_{1}\\,\\alpha_{2}\\,\\alpha_{3}^4}{1663422997388054307820299355056935315740394105501503259479427287187456000000}+\\frac{106259796272786974276853204921111137408738084241938868490439977243\\,\\alpha_{2}\\,\\alpha_{3}^4}{244621029027655045267691081626019899373587368456103420511680483409920000}+\\frac{80175870817186480388972933417890891909277407444370252066696979246003\\,\\alpha_{1}\\,\\alpha_{3}^4}{9148826485634298693011646452813144236572167580258267927136850079531008000}-\\frac{3993953580640655610774953173430895516992314143086513557207306391683\\,\\alpha_{3}^4}{134541565965210274897230094894310944655473052650856881281424265875456}-\\frac{6012387754536668812091862650391637192863446330976099474114955063\\,\\alpha_{1}\\,\\alpha_{2}\\,\\alpha_{3}^3}{687364874953741449512520394651626163529088473347728619619598052556800000}+\\frac{240194057035697047732631871039187582834417162036276909281765001\\,\\alpha_{2}\\,\\alpha_{3}^3}{10108306984613844845772358744876855346016006960996009112052912537600}-\\frac{25274732346490161233105236032667872919776371422390221483893300694449\\,\\alpha_{1}\\,\\alpha_{3}^3}{189025340612278898615943108529197194970499330170625370395389464453120000}+\\frac{5543624352398488298548594477122018828218622808003544686093770631523\\,\\alpha_{3}^3}{13898922103844036662936993274205676100772009571369512529072754739200}+\\frac{2816841581036407742625006157148368695837834820558538117170889807963\\,\\alpha_{1}\\,\\alpha_{2}\\,\\alpha_{3}^2}{13747297499074828990250407893032523270581769466954572392391961051136000000}-\\frac{319874440965690641448531539704638571851064247304582967103037673437\\,\\alpha_{2}\\,\\alpha_{3}^2}{505415349230692242288617937243842767300800348049800455602645626880000}+\\frac{1384018027622627937365495023378013653136047178900582552798249037836543\\,\\alpha_{1}\\,\\alpha_{3}^2}{604881089959292475571017947293431023905597856546001185265246286249984000}-\\frac{607034684323076244936701969015742142054373011800840575556018853005979\\,\\alpha_{3}^2}{88953101464601834642796756954916327044940861256764880186065630330880}+\\frac{1013237786850629813217659397952362281410985552809988810809696648930225197\\,\\alpha_{1}\\,\\alpha_{2}\\,\\alpha_{3}}{32470016909014820088652243410711377363252492939389343625038420645899141120000}-\\frac{70724246210928440195030649128681036481180461494281242521422780619837407\\,\\alpha_{2}\\,\\alpha_{3}}{746094138534347888066457798959360693089441473791115432560625474400256000}+\\frac{182945725571902220890059621456218971630257681734758032964369574394178950449\\,\\alpha_{1}\\,\\alpha_{3}}{737954929750336820196641895697985849164829384986121446023600469224980480000}-\\frac{20454557712231673190470984411325721482569695933811007657839747941741420521\\,\\alpha_{3}}{27130695946703559566053010871249479748706962683313288456750017250918400}-\\frac{1925872534024246262506430027721360026233274099428805742536816533006713001\\,\\alpha_{1}\\,\\alpha_{2}}{4612218310939605126229011848112411557280183656163259037647502932656128000000}+\\frac{430650506276398061208083408156419230074422700434224342127890904494006769\\,\\alpha_{2}}{339133699333794494575662635890618496858837033541416105709375215636480000}-\\frac{6102996822835684817472664096103309466352015622156814466146068419055043823\\,\\alpha_{1}}{838585147443564568405274881474983919505487937484228915935909624119296000}+\\frac{136445245825553705166848898108990424254994688559839373029432317666130107}{6166067260614445355921138834374881761069764246207565558352276647936}\\)"
      ],
      "text/plain": [
       "inline-value"
      ]
     },
     "metadata": {},
     "output_type": "display_data"
    },
    {
     "data": {
      "text/latex": [
       "\\(x_{4}=\\frac{2979636901819996429435235871864081745438863765060185778234119824401\\,\\alpha_{1}\\,\\alpha_{2}\\,\\alpha_{3}^4\\,{\\rm Z}_{5}^3}{36595305942537194772046585811252576946288670321033071708547400318124032000000}-\\frac{3508767652937601253224687677793379194594428526443372777597973692059\\,\\alpha_{2}\\,\\alpha_{3}^4\\,{\\rm Z}_{5}^3}{5381662638608410995889203795772437786218922106034275251256970635018240000}+\\frac{157039594722494821718278336412879749546667671349876174232045116449343\\,\\alpha_{1}\\,\\alpha_{3}^4\\,{\\rm Z}_{5}^3}{73190611885074389544093171622505153892577340642066143417094800636248064000}-\\frac{289115549760026400306345148091723248055923433878808890373926979938889\\,\\alpha_{3}^4\\,{\\rm Z}_{5}^3}{53816626386084109958892037957724377862189221060342752512569706350182400}+\\frac{332055777545981652414296609871299761023976433947166808882719205667\\,\\alpha_{1}\\,\\alpha_{2}\\,\\alpha_{3}^3\\,{\\rm Z}_{5}^3}{151220272489823118892754486823357755976399464136500296316311571562496000000}-\\frac{132922308899920661338670790462317518777236436862153084726692536709\\,\\alpha_{2}\\,\\alpha_{3}^3\\,{\\rm Z}_{5}^3}{22238275366150458660699189238729081761235215314191220046516407582720000}+\\frac{49508030450152223300714491800839027696480785794468619124117758098031\\,\\alpha_{1}\\,\\alpha_{3}^3\\,{\\rm Z}_{5}^3}{1512202724898231188927544868233577559763994641365002963163115715624960000}-\\frac{19577264313116896554355836906617515499406972958694967728829551507457\\,\\alpha_{3}^3\\,{\\rm Z}_{5}^3}{222382753661504586606991892387290817612352153141912200465164075827200}+\\frac{54133502753069785536000939384276062490857657456574548336350401491347\\,\\alpha_{1}\\,\\alpha_{2}\\,\\alpha_{3}^2\\,{\\rm Z}_{5}^3}{604881089959292475571017947293431023905597856546001185265246286249984000000}-\\frac{24431547739022947843114219858470961181707126923028821557960623762483\\,\\alpha_{2}\\,\\alpha_{3}^2\\,{\\rm Z}_{5}^3}{88953101464601834642796756954916327044940861256764880186065630330880000}-\\frac{313979390798927600059808357301204436835433862984482486914681200455277\\,\\alpha_{1}\\,\\alpha_{3}^2\\,{\\rm Z}_{5}^3}{1209762179918584951142035894586862047811195713092002370530492572499968000}+\\frac{685791958597605996070642324147491299290779041637671839619896622192987\\,\\alpha_{3}^2\\,{\\rm Z}_{5}^3}{889531014646018346427967569549163270449408612567648801860656303308800}-\\frac{10388180427818748204354802440990031120915958630513138629770631710458808611\\,\\alpha_{1}\\,\\alpha_{2}\\,\\alpha_{3}\\,{\\rm Z}_{5}^3}{3247001690901482008865224341071137736325249293938934362503842064589914112000000}+\\frac{4660747341235386654656208369522225333181304859769174464093993179239991939\\,\\alpha_{2}\\,\\alpha_{3}\\,{\\rm Z}_{5}^3}{477500248661982648362532991333990843577242543226313876838800303616163840000}-\\frac{1586593140027695243167353519324090431203236632300478406290124435628681353427\\,\\alpha_{1}\\,\\alpha_{3}\\,{\\rm Z}_{5}^3}{8117504227253705022163060852677844340813123234847335906259605161474785280000}+\\frac{709539577776484204930468561204284092707071983297620464322935516776770638233\\,\\alpha_{3}\\,{\\rm Z}_{5}^3}{1193750621654956620906332478334977108943106358065784692097000759040409600}-\\frac{3024965426369082860286703568167561269717218777834048276604306881174642229\\,\\alpha_{1}\\,\\alpha_{2}\\,{\\rm Z}_{5}^3}{18448873243758420504916047392449646229120734624653036150590011730624512000000}+\\frac{1351715544589636311888961117584923073750149622603806206861340505919985681\\,\\alpha_{2}\\,{\\rm Z}_{5}^3}{2713069594670355956605301087124947974870696268331328845675001725091840000}-\\frac{4712433360039858267490790691097586682070420516797271073767039681131242361\\,\\alpha_{1}\\,{\\rm Z}_{5}^3}{4612218310939605126229011848112411557280183656163259037647502932656128000}+\\frac{2633526977791454559385056945875762718956994299857134119400064957196394493\\,{\\rm Z}_{5}^3}{847834248334486236439156589726546242147092583853540264273438039091200}+\\frac{182351788012610990773868971402928253321984718022228519479621264911\\,\\alpha_{1}\\,\\alpha_{2}\\,\\alpha_{3}^4\\,{\\rm Z}_{5}^2}{599923048238314668394206324774632408955551972475951995222088529805312000000}-\\frac{93955890874880011190239234094124217892464719989842075086438001383\\,\\alpha_{2}\\,\\alpha_{3}^4\\,{\\rm Z}_{5}^2}{88223977682105098293265635996269471905228231246463528709130666147840000}-\\frac{506151778261497747807254813062241821828468331571604767178192698499\\,\\alpha_{1}\\,\\alpha_{3}^4\\,{\\rm Z}_{5}^2}{1199846096476629336788412649549264817911103944951903990444177059610624000}-\\frac{228421457916745084996207116793209500505529632637851609244561528649\\,\\alpha_{3}^4\\,{\\rm Z}_{5}^2}{882239776821050982932656359962694719052282312464635287091306661478400}+\\frac{1067735744860566246986256834312210403346551678619768921806059314629\\,\\alpha_{1}\\,\\alpha_{2}\\,\\alpha_{3}^3\\,{\\rm Z}_{5}^2}{151220272489823118892754486823357755976399464136500296316311571562496000000}-\\frac{20199157026005693494604042613287547643575888323466873315318873223\\,\\alpha_{2}\\,\\alpha_{3}^3\\,{\\rm Z}_{5}^2}{889531014646018346427967569549163270449408612567648801860656303308800}+\\frac{148748205147223875751141749644046265987919961274448846956187301833177\\,\\alpha_{1}\\,\\alpha_{3}^3\\,{\\rm Z}_{5}^2}{1512202724898231188927544868233577559763994641365002963163115715624960000}-\\frac{12951405983254257193175431410436991300543292789043516686213429247271\\,\\alpha_{3}^3\\,{\\rm Z}_{5}^2}{44476550732300917321398378477458163522470430628382440093032815165440}+\\frac{2589082348662369549540280300902689327637412446195682359302135206091\\,\\alpha_{1}\\,\\alpha_{2}\\,\\alpha_{3}^2\\,{\\rm Z}_{5}^2}{35581240585840733857118702781966530817976344502705952074426252132352000000}-\\frac{19849473693646223262340401460159179561489690637118955931212970521027\\,\\alpha_{2}\\,\\alpha_{3}^2\\,{\\rm Z}_{5}^2}{88953101464601834642796756954916327044940861256764880186065630330880000}-\\frac{654242925094947434761723231330170033512579913504991280481339345056861\\,\\alpha_{1}\\,\\alpha_{3}^2\\,{\\rm Z}_{5}^2}{241952435983716990228407178917372409562239142618400474106098514499993600}+\\frac{7330599909232657089433389676747150668370738006372034604277744955811647\\,\\alpha_{3}^2\\,{\\rm Z}_{5}^2}{889531014646018346427967569549163270449408612567648801860656303308800}-\\frac{62523987358682200017978871127051494617150597378912058031044360016057026937\\,\\alpha_{1}\\,\\alpha_{2}\\,\\alpha_{3}\\,{\\rm Z}_{5}^2}{3247001690901482008865224341071137736325249293938934362503842064589914112000000}+\\frac{27978853102830727444736537850400139393910431002221446110202697018626557829\\,\\alpha_{2}\\,\\alpha_{3}\\,{\\rm Z}_{5}^2}{477500248661982648362532991333990843577242543226313876838800303616163840000}-\\frac{100141437515713821653454481153481995732183986384837912021784512391969401827\\,\\alpha_{1}\\,\\alpha_{3}\\,{\\rm Z}_{5}^2}{253672007101678281942595651646182635650410101088979247070612661296087040000}+\\frac{1433175914083614711534623582625544034721564888079438229053030180341227461693\\,\\alpha_{3}\\,{\\rm Z}_{5}^2}{1193750621654956620906332478334977108943106358065784692097000759040409600}-\\frac{1576030963655415090782318306627990471867478149747490567865300986894215869\\,\\alpha_{1}\\,\\alpha_{2}\\,{\\rm Z}_{5}^2}{18448873243758420504916047392449646229120734624653036150590011730624512000000}+\\frac{705105517914811233900018348013730555981958979071860514757660594370081581\\,\\alpha_{2}\\,{\\rm Z}_{5}^2}{2713069594670355956605301087124947974870696268331328845675001725091840000}+\\frac{11505982973298864113875099942597121289095940882623864881165980837717481677\\,\\alpha_{1}\\,{\\rm Z}_{5}^2}{9224436621879210252458023696224823114560367312326518075295005865312256000}-\\frac{12868978361268977563228362617287753478100884886161745886640974424198346203\\,{\\rm Z}_{5}^2}{3391336993337944945756626358906184968588370335414161057093752156364800}+\\frac{1514257314040031456195580054416038879013925319935663736230182186949\\,\\alpha_{1}\\,\\alpha_{2}\\,\\alpha_{3}^4\\,{\\rm Z}_{5}}{7319061188507438954409317162250515389257734064206614341709480063624806400000}-\\frac{4283409576595446191433106995866204022552296448921925921615539346937\\,\\alpha_{2}\\,\\alpha_{3}^4\\,{\\rm Z}_{5}}{5381662638608410995889203795772437786218922106034275251256970635018240000}-\\frac{237732866106058209736013019555433516532035227192180475333919384282541\\,\\alpha_{1}\\,\\alpha_{3}^4\\,{\\rm Z}_{5}}{73190611885074389544093171622505153892577340642066143417094800636248064000}+\\frac{124490985346448517824166078687635615584502683862872533942857983513221\\,\\alpha_{3}^4\\,{\\rm Z}_{5}}{10763325277216821991778407591544875572437844212068550502513941270036480}+\\frac{638292918865506698660030789495168122275845059221629147555562960573\\,\\alpha_{1}\\,\\alpha_{2}\\,\\alpha_{3}^3\\,{\\rm Z}_{5}}{75610136244911559446377243411678877988199732068250148158155785781248000000}-\\frac{272292953594909861567950958080891920547524805204372555051234130707\\,\\alpha_{2}\\,\\alpha_{3}^3\\,{\\rm Z}_{5}}{11119137683075229330349594619364540880617607657095610023258203791360000}+\\frac{4851487295315853645900361598765052210745489679433348413358461282877\\,\\alpha_{1}\\,\\alpha_{3}^3\\,{\\rm Z}_{5}}{44476550732300917321398378477458163522470430628382440093032815165440000}-\\frac{36609761004341980551458342057305655763630029837601251331842898369611\\,\\alpha_{3}^3\\,{\\rm Z}_{5}}{111191376830752293303495946193645408806176076570956100232582037913600}-\\frac{48559211925913392881106355894823823272576076641376423388969504741\\,\\alpha_{1}\\,\\alpha_{2}\\,\\alpha_{3}^2\\,{\\rm Z}_{5}}{1779062029292036692855935139098326540898817225135297603721312606617600000}+\\frac{1841821441969654077771112609872799825061234765750343115426506095057\\,\\alpha_{2}\\,\\alpha_{3}^2\\,{\\rm Z}_{5}}{22238275366150458660699189238729081761235215314191220046516407582720000}-\\frac{1193277706532614789358398612346200822854563078732072290060013185313961\\,\\alpha_{1}\\,\\alpha_{3}^2\\,{\\rm Z}_{5}}{302440544979646237785508973646715511952798928273000592632623143124992000}+\\frac{106595859452640082491857663846671432901181966836462234417642045266579\\,\\alpha_{3}^2\\,{\\rm Z}_{5}}{8895310146460183464279675695491632704494086125676488018606563033088}-\\frac{5272697991838754867625803627826594806246258420645633675994288984454095243\\,\\alpha_{1}\\,\\alpha_{2}\\,\\alpha_{3}\\,{\\rm Z}_{5}}{202937605681342625554076521316946108520328080871183397656490129036869632000000}+\\frac{9431739086557349075463049770867422194620470611356398880922804018123098027\\,\\alpha_{2}\\,\\alpha_{3}\\,{\\rm Z}_{5}}{119375062165495662090633247833497710894310635806578469209700075904040960000}-\\frac{5237448838532768610283606936047956887204789568842275075260244263191586822337\\,\\alpha_{1}\\,\\alpha_{3}\\,{\\rm Z}_{5}}{16235008454507410044326121705355688681626246469694671812519210322949570560000}+\\frac{2342010404165541981447173170923089759223286743467986096942797510005237493297\\,\\alpha_{3}\\,{\\rm Z}_{5}}{2387501243309913241812664956669954217886212716131569384194001518080819200}+\\frac{13770542929669979880732644439398627607913805428665547556639427800088079\\,\\alpha_{1}\\,\\alpha_{2}\\,{\\rm Z}_{5}}{108522783786814238264212043484997918994827850733253153827000069003673600000}-\\frac{104777224469424642374666401555538165780896563580925170042134290291516523\\,\\alpha_{2}\\,{\\rm Z}_{5}}{271306959467035595660530108712494797487069626833132884567500172509184000}+\\frac{3984530719896951308846697772139641374182029769846998338657795806232224397\\,\\alpha_{1}\\,{\\rm Z}_{5}}{1085227837868142382642120434849979189948278507332531538270000690036736000}-\\frac{30292084202352498969164117485108616394808326750454519974396553901173536069\\,{\\rm Z}_{5}}{2713069594670355956605301087124947974870696268331328845675001725091840}-\\frac{655084202171299538767945711425106849948335063140227830498911997177\\,\\alpha_{1}\\,\\alpha_{2}\\,\\alpha_{3}^4}{36595305942537194772046585811252576946288670321033071708547400318124032000000}-\\frac{1785536853806272096534332186209979868381091025022383279693118993333\\,\\alpha_{2}\\,\\alpha_{3}^4}{5381662638608410995889203795772437786218922106034275251256970635018240000}-\\frac{60604031456855378230015013385761508665666928475583786358101884131711\\,\\alpha_{1}\\,\\alpha_{3}^4}{14638122377014877908818634324501030778515468128413228683418960127249612800}+\\frac{633891363404659217440375125705422674554118475094493654626994676485213\\,\\alpha_{3}^4}{53816626386084109958892037957724377862189221060342752512569706350182400}+\\frac{542805183451582831798015606472088123291999606767273330045208178023\\,\\alpha_{1}\\,\\alpha_{2}\\,\\alpha_{3}^3}{151220272489823118892754486823357755976399464136500296316311571562496000000}-\\frac{259398476858247099374708313662196858484116684637973560095987815387\\,\\alpha_{2}\\,\\alpha_{3}^3}{22238275366150458660699189238729081761235215314191220046516407582720000}+\\frac{75371110494619434483838638983440621222537368327765443872989779727519\\,\\alpha_{1}\\,\\alpha_{3}^3}{1512202724898231188927544868233577559763994641365002963163115715624960000}-\\frac{30361707675213284969300056192603805012709827569402772910404179152011\\,\\alpha_{3}^3}{222382753661504586606991892387290817612352153141912200465164075827200}-\\frac{22160974085989744646399013739794688733442663121080003537122998260967\\,\\alpha_{1}\\,\\alpha_{2}\\,\\alpha_{3}^2}{302440544979646237785508973646715511952798928273000592632623143124992000000}+\\frac{611234184128127967185613389930586937550295404880385113460209196009\\,\\alpha_{2}\\,\\alpha_{3}^2}{2779784420768807332587398654841135220154401914273902505814550947840000}-\\frac{2751569706149196335868717672754393208682692611513767082362017729864173\\,\\alpha_{1}\\,\\alpha_{3}^2}{1209762179918584951142035894586862047811195713092002370530492572499968000}+\\frac{6154211821888414585712175588079241277762081157053215488091633802552961\\,\\alpha_{3}^2}{889531014646018346427967569549163270449408612567648801860656303308800}-\\frac{1427438399740136227473779655710966116366854872319767267372626912897738837\\,\\alpha_{1}\\,\\alpha_{2}\\,\\alpha_{3}}{101468802840671312777038260658473054260164040435591698828245064518434816000000}+\\frac{10227194609151830007615516222572005583430899628540144781635192286888578777\\,\\alpha_{2}\\,\\alpha_{3}}{238750124330991324181266495666995421788621271613156938419400151808081920000}-\\frac{79753730461059469049198456320554913156002169775962150546257708236021126271\\,\\alpha_{1}\\,\\alpha_{3}}{1014688028406713127770382606584730542601640404355916988282450645184348160000}+\\frac{285531192882467200181919398989323076156603599962745859278582155226269837063\\,\\alpha_{3}}{1193750621654956620906332478334977108943106358065784692097000759040409600}+\\frac{414467576375402139885429533927262230920813161959881135948775464811633681\\,\\alpha_{1}\\,\\alpha_{2}}{2306109155469802563114505924056205778640091828081629518823751466328064000000}-\\frac{741617483782274176093906997431255807875862610573533363487581549588616187\\,\\alpha_{2}}{1356534797335177978302650543562473987435348134165664422837500862545920000}+\\frac{2675252424450454061890611841719775884699433859884967243253328034763430201\\,\\alpha_{1}}{922443662187921025245802369622482311456036731232651807529500586531225600}-\\frac{59834231433903064701450906473566491242381849555738383619717407082838482183}{6782673986675889891513252717812369937176740670828322114187504312729600}\\)"
      ],
      "text/plain": [
       "inline-value"
      ]
     },
     "metadata": {},
     "output_type": "display_data"
    },
    {
     "data": {
      "text/latex": [
       "\\(x_{5}=\\frac{10857474967436382582241669838721667492680485745452874957091564242263\\,\\alpha_{1}\\,\\alpha_{2}\\,\\alpha_{3}^4\\,{\\rm Z}_{5}^3}{36595305942537194772046585811252576946288670321033071708547400318124032000000}-\\frac{1100938941938794179580916526028975822971439862839702142779550414221\\,\\alpha_{2}\\,\\alpha_{3}^4\\,{\\rm Z}_{5}^3}{1076332527721682199177840759154487557243784421206855050251394127003648000}+\\frac{209331868911183665826270830706030051105446195992452052085776216462949\\,\\alpha_{1}\\,\\alpha_{3}^4\\,{\\rm Z}_{5}^3}{73190611885074389544093171622505153892577340642066143417094800636248064000}-\\frac{21682062648310619474584801153048298633893578107706498746532705308255\\,\\alpha_{3}^4\\,{\\rm Z}_{5}^3}{2152665055443364398355681518308975114487568842413710100502788254007296}+\\frac{127633078786900227056228929759747191202220578500730830184879884413\\,\\alpha_{1}\\,\\alpha_{2}\\,\\alpha_{3}^3\\,{\\rm Z}_{5}^3}{30244054497964623778550897364671551195279892827300059263262314312499200000}-\\frac{60500774810258314006616550721576105322762939896598610947876552863\\,\\alpha_{2}\\,\\alpha_{3}^3\\,{\\rm Z}_{5}^3}{4447655073230091732139837847745816352247043062838244009303281516544000}+\\frac{58755807703015198596955904196333847748902589666164976522282276153753\\,\\alpha_{1}\\,\\alpha_{3}^3\\,{\\rm Z}_{5}^3}{1512202724898231188927544868233577559763994641365002963163115715624960000}-\\frac{26981691231813807252109168979307307804343281947398827688000500855091\\,\\alpha_{3}^3\\,{\\rm Z}_{5}^3}{222382753661504586606991892387290817612352153141912200465164075827200}+\\frac{67314174675947749831723763970000621947966479172468835087790928964081\\,\\alpha_{1}\\,\\alpha_{2}\\,\\alpha_{3}^2\\,{\\rm Z}_{5}^3}{604881089959292475571017947293431023905597856546001185265246286249984000000}-\\frac{30553436476121778445405349152733599667723729706949694659757282742397\\,\\alpha_{2}\\,\\alpha_{3}^2\\,{\\rm Z}_{5}^3}{88953101464601834642796756954916327044940861256764880186065630330880000}-\\frac{627398030460026449069523237139783185445987998589920447273621123132279\\,\\alpha_{1}\\,\\alpha_{3}^2\\,{\\rm Z}_{5}^3}{1209762179918584951142035894586862047811195713092002370530492572499968000}+\\frac{297181996742905510269400361213233921445701389731622499224924998939337\\,\\alpha_{3}^2\\,{\\rm Z}_{5}^3}{177906202929203669285593513909832654089881722513529760372131260661760}-\\frac{5555066757025404770043193977741755758873498054558896942385231828041872647\\,\\alpha_{1}\\,\\alpha_{2}\\,\\alpha_{3}\\,{\\rm Z}_{5}^3}{649400338180296401773044868214227547265049858787786872500768412917982822400000}+\\frac{2487647264815259001455821957342624937080820147594642171802932652419302179\\,\\alpha_{2}\\,\\alpha_{3}\\,{\\rm Z}_{5}^3}{95500049732396529672506598266798168715448508645262775367760060723232768000}-\\frac{643577145327957943704043680986145796566175439826771327559110212359176544989\\,\\alpha_{1}\\,\\alpha_{3}\\,{\\rm Z}_{5}^3}{2029376056813426255540765213169461085203280808711833976564901290368696320000}+\\frac{575893955880915466151641521391025461934584793061449993531566115106206525917\\,\\alpha_{3}\\,{\\rm Z}_{5}^3}{596875310827478310453166239167488554471553179032892346048500379520204800}-\\frac{5768896774840710324908036815757723137439685959219582755889031263448981297\\,\\alpha_{1}\\,\\alpha_{2}\\,{\\rm Z}_{5}^3}{18448873243758420504916047392449646229120734624653036150590011730624512000000}+\\frac{2579717742466287032055574295287816375209692104076342495169069457813390233\\,\\alpha_{2}\\,{\\rm Z}_{5}^3}{2713069594670355956605301087124947974870696268331328845675001725091840000}-\\frac{6549324889576447824878983502692110103765777836892220489510385046337990793\\,\\alpha_{1}\\,{\\rm Z}_{5}^3}{9224436621879210252458023696224823114560367312326518075295005865312256000}+\\frac{2927914944354742491664709486718365012388458578872624895989283569213558783\\,{\\rm Z}_{5}^3}{1356534797335177978302650543562473987435348134165664422837500862545920}+\\frac{352583247040999495177639747684972877675437973150060950940376769123\\,\\alpha_{1}\\,\\alpha_{2}\\,\\alpha_{3}^4\\,{\\rm Z}_{5}^2}{599923048238314668394206324774632408955551972475951995222088529805312000000}-\\frac{31123630930224759503942066931371352553040782347185918350552958307\\,\\alpha_{2}\\,\\alpha_{3}^4\\,{\\rm Z}_{5}^2}{17644795536421019658653127199253894381045646249292705741826133229568000}-\\frac{3308508142048731997554295583581871945738311279228746829406968236287\\,\\alpha_{1}\\,\\alpha_{3}^4\\,{\\rm Z}_{5}^2}{1199846096476629336788412649549264817911103944951903990444177059610624000}+\\frac{1379922965352822831863433007859722012135569600788576437849774095907\\,\\alpha_{3}^4\\,{\\rm Z}_{5}^2}{176447955364210196586531271992538943810456462492927057418261332295680}+\\frac{428757359170855323253865540035856658458363580418462657058688147831\\,\\alpha_{1}\\,\\alpha_{2}\\,\\alpha_{3}^3\\,{\\rm Z}_{5}^2}{30244054497964623778550897364671551195279892827300059263262314312499200000}-\\frac{193064046303587224475183796526734876478863407426262091288223456649\\,\\alpha_{2}\\,\\alpha_{3}^3\\,{\\rm Z}_{5}^2}{4447655073230091732139837847745816352247043062838244009303281516544000}+\\frac{198949873687924016608548779758054068406762864619860591665565158553811\\,\\alpha_{1}\\,\\alpha_{3}^3\\,{\\rm Z}_{5}^2}{1512202724898231188927544868233577559763994641365002963163115715624960000}-\\frac{17957985087169124241338479035184495481467918359504347002684938225369\\,\\alpha_{3}^3\\,{\\rm Z}_{5}^2}{44476550732300917321398378477458163522470430628382440093032815165440}+\\frac{3546276914302371745982632783484925586504946807949291213075519225221\\,\\alpha_{1}\\,\\alpha_{2}\\,\\alpha_{3}^2\\,{\\rm Z}_{5}^2}{604881089959292475571017947293431023905597856546001185265246286249984000000}-\\frac{1937714043527571726563678510063976508851495126135677233711802398097\\,\\alpha_{2}\\,\\alpha_{3}^2\\,{\\rm Z}_{5}^2}{88953101464601834642796756954916327044940861256764880186065630330880000}-\\frac{3513006032245062068156729146065316181375809483777619285440487388728243\\,\\alpha_{1}\\,\\alpha_{3}^2\\,{\\rm Z}_{5}^2}{1209762179918584951142035894586862047811195713092002370530492572499968000}+\\frac{313885388695126697940484550165964662443937507038159734875149556748761\\,\\alpha_{3}^2\\,{\\rm Z}_{5}^2}{35581240585840733857118702781966530817976344502705952074426252132352}-\\frac{25794686415969494883361941138159386909581521288721786151218419800586224721\\,\\alpha_{1}\\,\\alpha_{2}\\,\\alpha_{3}\\,{\\rm Z}_{5}^2}{649400338180296401773044868214227547265049858787786872500768412917982822400000}+\\frac{461420755591170174623868262188372738717041032459165194597924708477213633\\,\\alpha_{2}\\,\\alpha_{3}\\,{\\rm Z}_{5}^2}{3820001989295861186900263930671926748617940345810511014710402428929310720}-\\frac{1189646558173122197307446444788594806922680309409456961341968754200197960433\\,\\alpha_{1}\\,\\alpha_{3}\\,{\\rm Z}_{5}^2}{2029376056813426255540765213169461085203280808711833976564901290368696320000}+\\frac{2128252581923810134073629507625080906290389148394137358067826129030078029239\\,\\alpha_{3}\\,{\\rm Z}_{5}^2}{1193750621654956620906332478334977108943106358065784692097000759040409600}-\\frac{2518302554939964677283151986589776257422397206251199242970787034458324797\\,\\alpha_{1}\\,\\alpha_{2}\\,{\\rm Z}_{5}^2}{18448873243758420504916047392449646229120734624653036150590011730624512000000}+\\frac{1126434058593035327556124416410113615856407200311303521152310965362349633\\,\\alpha_{2}\\,{\\rm Z}_{5}^2}{2713069594670355956605301087124947974870696268331328845675001725091840000}+\\frac{27667570712884510989791401892742680690667092977432191059740810525584978659\\,\\alpha_{1}\\,{\\rm Z}_{5}^2}{9224436621879210252458023696224823114560367312326518075295005865312256000}-\\frac{6186909115974908175617773519286645260048032113909613529159115542374106221\\,{\\rm Z}_{5}^2}{678267398667588989151325271781236993717674067082832211418750431272960}+\\frac{2905898297096627679741079921030777022521428030877119531012405011769\\,\\alpha_{1}\\,\\alpha_{2}\\,\\alpha_{3}^4\\,{\\rm Z}_{5}}{7319061188507438954409317162250515389257734064206614341709480063624806400000}-\\frac{1389974063451443692382753678766343227564994116635139342631912600357\\,\\alpha_{2}\\,\\alpha_{3}^4\\,{\\rm Z}_{5}}{1076332527721682199177840759154487557243784421206855050251394127003648000}-\\frac{617802345708997366646979045346867396826596878770489333961032853161233\\,\\alpha_{1}\\,\\alpha_{3}^4\\,{\\rm Z}_{5}}{73190611885074389544093171622505153892577340642066143417094800636248064000}+\\frac{270867692382349090394806370186070070697467658453320095473768669203629\\,\\alpha_{3}^4\\,{\\rm Z}_{5}}{10763325277216821991778407591544875572437844212068550502513941270036480}+\\frac{243644849501269005698559804500343691019108611163865254694161714787\\,\\alpha_{1}\\,\\alpha_{2}\\,\\alpha_{3}^3\\,{\\rm Z}_{5}}{15122027248982311889275448682335775597639946413650029631631157156249600000}-\\frac{109731028526215409777941869170635378873528276166252659401766606201\\,\\alpha_{2}\\,\\alpha_{3}^3\\,{\\rm Z}_{5}}{2223827536615045866069918923872908176123521531419122004651640758272000}+\\frac{113398768573635016061655387883020188252522839877433375042133340583707\\,\\alpha_{1}\\,\\alpha_{3}^3\\,{\\rm Z}_{5}}{756101362449115594463772434116788779881997320682501481581557857812480000}-\\frac{50676912476946878526064993692510287511245524700571139164271424308753\\,\\alpha_{3}^3\\,{\\rm Z}_{5}}{111191376830752293303495946193645408806176076570956100232582037913600}-\\frac{5178727062125498188716555812743924482003091163051562895028867571629\\,\\alpha_{1}\\,\\alpha_{2}\\,\\alpha_{3}^2\\,{\\rm Z}_{5}}{30244054497964623778550897364671551195279892827300059263262314312499200000}+\\frac{2315610300322249872387618012061215213568010484005523480620765028399\\,\\alpha_{2}\\,\\alpha_{3}^2\\,{\\rm Z}_{5}}{4447655073230091732139837847745816352247043062838244009303281516544000}-\\frac{72586961948922967535099855369225873030402017850504900855436231731393\\,\\alpha_{1}\\,\\alpha_{3}^2\\,{\\rm Z}_{5}}{18902534061227889861594310852919719497049933017062537039538946445312000}+\\frac{261095467873255926175086748112304420617967749622182621710983499525227\\,\\alpha_{3}^2\\,{\\rm Z}_{5}}{22238275366150458660699189238729081761235215314191220046516407582720}-\\frac{8184872222970508366752896268406387350616756444198165959319889158762443163\\,\\alpha_{1}\\,\\alpha_{2}\\,\\alpha_{3}\\,{\\rm Z}_{5}}{162350084545074100443261217053556886816262464696946718125192103229495705600000}+\\frac{11440426282776595889632668655384501828731730038299756602335301965646637\\,\\alpha_{2}\\,\\alpha_{3}\\,{\\rm Z}_{5}}{74609413853434788806645779895936069308944147379111543256062547440025600}-\\frac{7068024251813986652619628127536224614764836343467037628237880711537704628801\\,\\alpha_{1}\\,\\alpha_{3}\\,{\\rm Z}_{5}}{16235008454507410044326121705355688681626246469694671812519210322949570560000}+\\frac{3161372109501005597173228521092066831442717221899677801487845410844493269581\\,\\alpha_{3}\\,{\\rm Z}_{5}}{2387501243309913241812664956669954217886212716131569384194001518080819200}+\\frac{1237295604619647549426133438065465961974554502563950398000239610734807\\,\\alpha_{1}\\,\\alpha_{2}\\,{\\rm Z}_{5}}{4340911351472569530568481739399916759793114029330126153080002760146944000}-\\frac{47038779037739973521243347080456496393705736567334224869350027214416971\\,\\alpha_{2}\\,{\\rm Z}_{5}}{54261391893407119132106021742498959497413925366626576913500034501836800}+\\frac{6513268322587279589951274589523121673932675579281392430634633461278342681\\,\\alpha_{1}\\,{\\rm Z}_{5}}{1085227837868142382642120434849979189948278507332531538270000690036736000}-\\frac{49518628778765517657570641920726446326917393621016263503558710225884740677\\,{\\rm Z}_{5}}{2713069594670355956605301087124947974870696268331328845675001725091840}+\\frac{555989249324003832114145495911854899099824756146505202609912483209\\,\\alpha_{1}\\,\\alpha_{2}\\,\\alpha_{3}^4}{36595305942537194772046585811252576946288670321033071708547400318124032000000}-\\frac{534817261614030241619763037531487387892187252418970926447266344551\\,\\alpha_{2}\\,\\alpha_{3}^4}{5381662638608410995889203795772437786218922106034275251256970635018240000}-\\frac{539074083866310958540588808783525965718352191583507812152946350134169\\,\\alpha_{1}\\,\\alpha_{3}^4}{73190611885074389544093171622505153892577340642066143417094800636248064000}+\\frac{225512676712523278284367917691224398801302809292618380673717391986039\\,\\alpha_{3}^4}{10763325277216821991778407591544875572437844212068550502513941270036480}+\\frac{218615138014483940823206974697542854684630375330104898789723441067\\,\\alpha_{1}\\,\\alpha_{2}\\,\\alpha_{3}^3}{30244054497964623778550897364671551195279892827300059263262314312499200000}-\\frac{101109473132004773185934889412537994502322653796391086782880783611\\,\\alpha_{2}\\,\\alpha_{3}^3}{4447655073230091732139837847745816352247043062838244009303281516544000}+\\frac{103970454912125770174526247795561799347275975137156606901987356115207\\,\\alpha_{1}\\,\\alpha_{3}^3}{1512202724898231188927544868233577559763994641365002963163115715624960000}-\\frac{47697024579081823104151358208073482540946144758663259451442568414423\\,\\alpha_{3}^3}{222382753661504586606991892387290817612352153141912200465164075827200}-\\frac{26624751521377989688164773552338477663791541159497504302234926274603\\,\\alpha_{1}\\,\\alpha_{2}\\,\\alpha_{3}^2}{151220272489823118892754486823357755976399464136500296316311571562496000000}+\\frac{23489697100110844994105711972716498884684105664575561052918578594771\\,\\alpha_{2}\\,\\alpha_{3}^2}{44476550732300917321398378477458163522470430628382440093032815165440000}-\\frac{2484262791682756244070649751052189043524022029862731993576243517781761\\,\\alpha_{1}\\,\\alpha_{3}^2}{1209762179918584951142035894586862047811195713092002370530492572499968000}+\\frac{1118318153222775756406486309654674903021932253044455746985426413152797\\,\\alpha_{3}^2}{177906202929203669285593513909832654089881722513529760372131260661760}-\\frac{335960697508372899894015785118638933748854437849114645010369445110340659\\,\\alpha_{1}\\,\\alpha_{2}\\,\\alpha_{3}}{12988006763605928035460897364284550945300997175755737450015368258359656448000}+\\frac{1878540469714730619961799646791782029987216677600590076963508867924938353\\,\\alpha_{2}\\,\\alpha_{3}}{23875012433099132418126649566699542178862127161315693841940015180808192000}-\\frac{592455852345124111245758332228060110500545814457010267676856680799742506169\\,\\alpha_{1}\\,\\alpha_{3}}{8117504227253705022163060852677844340813123234847335906259605161474785280000}+\\frac{8290498658796478762611959528794606720009680148944974288894726150148725617\\,\\alpha_{3}}{37304706926717394403322889947968034654472073689555771628031273720012800}+\\frac{3407720094323054032654901079754313124660838016774724186448201120899820717\\,\\alpha_{1}\\,\\alpha_{2}}{9224436621879210252458023696224823114560367312326518075295005865312256000000}-\\frac{761968300015115837731420284778164035117070457834164776094184848817209033\\,\\alpha_{2}}{678267398667588989151325271781236993717674067082832211418750431272960000}+\\frac{38262020518559591131392667360884648273521128343059863544469211971787871013\\,\\alpha_{1}}{9224436621879210252458023696224823114560367312326518075295005865312256000}-\\frac{1711243814891541150950739353327852807817318243570164975106806539252398723}{135653479733517797830265054356247398743534813416566442283750086254592}\\)"
      ],
      "text/plain": [
       "inline-value"
      ]
     },
     "metadata": {},
     "output_type": "display_data"
    },
    {
     "data": {
      "text/latex": [
       "with"
      ],
      "text/plain": [
       "inline-value"
      ]
     },
     "metadata": {},
     "output_type": "display_data"
    },
    {
     "data": {
      "text/latex": [
       "\\(\\left[ \\left[ \\alpha_{3} , -\\frac{45587897\\,\\alpha_{2}\\,{\\rm Z}_{5}^3}{922625}+1794000\\,{\\rm Z}_{5}^3-\\frac{285429779\\,\\alpha_{2}\\,{\\rm Z}_{5}^2}{922625}+2010600\\,{\\rm Z}_{5}^2-\\frac{387494226\\,\\alpha_{2}\\,{\\rm Z}_{5}}{922625}+364800\\,{\\rm Z}_{5}+\\alpha_{3}^5-\\frac{210777288\\,\\alpha_{2}}{922625}-887340 \\right]  , \\left[ {\\rm Z}_{5} , {\\rm Z}_{5}^4+{\\rm Z}_{5}^3+{\\rm Z}_{5}^2+{\\rm Z}_{5}+1 \\right]  , \\left[ \\alpha_{2} , \\alpha_{2}^2-\\frac{2086375\\,\\alpha_{1}}{34}+249125000 \\right]  , \\left[ \\alpha_{1} , \\alpha_{1}^2-9248000 \\right]  \\right] \\)"
      ],
      "text/plain": [
       "inline-value"
      ]
     },
     "metadata": {},
     "output_type": "display_data"
    },
    {
     "data": {
      "text/latex": [
       "Verification"
      ],
      "text/plain": [
       "inline-value"
      ]
     },
     "metadata": {},
     "output_type": "display_data"
    },
    {
     "data": {
      "text/latex": [
       "Numeric calcuration of the above solutions"
      ],
      "text/plain": [
       "inline-value"
      ]
     },
     "metadata": {},
     "output_type": "display_data"
    },
    {
     "data": {
      "text/latex": [
       "\\(\\left[ 3.624402971287054_B \\times 10^{0}\\,i+2.920094821980456_B \\times 10^{0} , 2.971158964501228_B \\times 10^{0}\\,i-3.391962761706964_B \\times 10^{-1} , 2.920094821976818_B \\times 10^{0}-3.624402971239761_B \\times 10^{0}\\,i , -2.971158964508504_B \\times 10^{0}\\,i-3.391962761670584_B \\times 10^{-1} , 1.455191522836685_B \\times 10^{-11}\\,i-5.161797091619519_B \\times 10^{0} \\right] \\)"
      ],
      "text/plain": [
       "inline-value"
      ]
     },
     "metadata": {},
     "output_type": "display_data"
    },
    {
     "data": {
      "text/latex": [
       "Numeric solutions with allroots( \\(x^5+100\\,x^2+1000\\) )"
      ],
      "text/plain": [
       "inline-value"
      ]
     },
     "metadata": {},
     "output_type": "display_data"
    },
    {
     "data": {
      "text/latex": [
       "\\(\\left[ x=3.624402971284332\\,i+2.920094821970137 , x=2.920094821970137-3.624402971284332\\,i , x=2.971158964501832\\,i-0.3391962761592826 , x=-2.971158964501832\\,i-0.3391962761592826 , x=-5.161797091621709 \\right] \\)"
      ],
      "text/plain": [
       "inline-value"
      ]
     },
     "metadata": {},
     "output_type": "display_data"
    }
   ],
   "source": [
    "SolveSolvable(x^5+100*x^2+1000)$"
   ]
  },
  {
   "cell_type": "code",
   "execution_count": 10,
   "metadata": {},
   "outputs": [
    {
     "data": {
      "text/latex": [
       "Minimal polynomial of V"
      ],
      "text/plain": [
       "inline-value"
      ]
     },
     "metadata": {},
     "output_type": "display_data"
    },
    {
     "data": {
      "text/latex": [
       "\\(V^6+45\\,V^4-692\\,V^3+1323\\,V^2-17253\\,V+120583\\)"
      ],
      "text/plain": [
       "inline-value"
      ]
     },
     "metadata": {},
     "output_type": "display_data"
    },
    {
     "data": {
      "text/latex": [
       "Galois Group of \\(x^6+x^3+1\\)"
      ],
      "text/plain": [
       "inline-value"
      ]
     },
     "metadata": {},
     "output_type": "display_data"
    },
    {
     "data": {
      "text/latex": [
       "\\(\\begin{pmatrix}a & b & c & d & e & f \\\\ b & f & e & c & d & a \\\\ c & e & f & b & a & d \\\\ d & c & b & a & f & e \\\\ e & d & a & f & b & c \\\\ f & a & d & e & c & b \\\\ \\end{pmatrix}\\)"
      ],
      "text/plain": [
       "inline-value"
      ]
     },
     "metadata": {},
     "output_type": "display_data"
    },
    {
     "data": {
      "text/latex": [
       "Subnormal series and quotients of orders"
      ],
      "text/plain": [
       "inline-value"
      ]
     },
     "metadata": {},
     "output_type": "display_data"
    },
    {
     "data": {
      "text/latex": [
       "FiniteGroup[1,238,333,416,557,618]"
      ],
      "text/plain": [
       "inline-value"
      ]
     },
     "metadata": {},
     "output_type": "display_data"
    },
    {
     "data": {
      "text/latex": [
       "FiniteGroup[1,238,618]"
      ],
      "text/plain": [
       "inline-value"
      ]
     },
     "metadata": {},
     "output_type": "display_data"
    },
    {
     "data": {
      "text/latex": [
       "FiniteGroup[1]"
      ],
      "text/plain": [
       "inline-value"
      ]
     },
     "metadata": {},
     "output_type": "display_data"
    },
    {
     "data": {
      "text/latex": [
       "\\(x^6+x^3+1\\) is solvable."
      ],
      "text/plain": [
       "inline-value"
      ]
     },
     "metadata": {},
     "output_type": "display_data"
    },
    {
     "data": {
      "text/latex": [
       "Solutions"
      ],
      "text/plain": [
       "inline-value"
      ]
     },
     "metadata": {},
     "output_type": "display_data"
    },
    {
     "data": {
      "text/latex": [
       "\\(x_{1}=-\\frac{952\\,\\alpha_{1}\\,\\alpha_{2}^2\\,{\\rm Z}_{3}}{1262459}+\\frac{1108\\,\\alpha_{2}^2\\,{\\rm Z}_{3}}{114769}+\\frac{53321\\,\\alpha_{1}\\,\\alpha_{2}\\,{\\rm Z}_{3}}{11362131}+\\frac{323831\\,\\alpha_{2}\\,{\\rm Z}_{3}}{688614}+\\frac{1502\\,\\alpha_{1}\\,{\\rm Z}_{3}}{344307}+\\frac{50171\\,{\\rm Z}_{3}}{114769}-\\frac{2536\\,\\alpha_{1}\\,\\alpha_{2}^2}{3787377}-\\frac{1588\\,\\alpha_{2}^2}{114769}-\\frac{20486\\,\\alpha_{1}\\,\\alpha_{2}}{11362131}-\\frac{51205\\,\\alpha_{2}}{344307}-\\frac{1270\\,\\alpha_{1}}{114769}+\\frac{37477}{114769}\\)"
      ],
      "text/plain": [
       "inline-value"
      ]
     },
     "metadata": {},
     "output_type": "display_data"
    },
    {
     "data": {
      "text/latex": [
       "\\(x_{2}=\\frac{320\\,\\alpha_{1}\\,\\alpha_{2}^2\\,{\\rm Z}_{3}}{3787377}-\\frac{2696\\,\\alpha_{2}^2\\,{\\rm Z}_{3}}{114769}-\\frac{188576\\,\\alpha_{1}\\,\\alpha_{2}\\,{\\rm Z}_{3}}{11362131}-\\frac{40967\\,\\alpha_{2}\\,{\\rm Z}_{3}}{344307}-\\frac{5312\\,\\alpha_{1}\\,{\\rm Z}_{3}}{344307}-\\frac{12694\\,{\\rm Z}_{3}}{114769}+\\frac{952\\,\\alpha_{1}\\,\\alpha_{2}^2}{1262459}-\\frac{1108\\,\\alpha_{2}^2}{114769}+\\frac{61448\\,\\alpha_{1}\\,\\alpha_{2}}{11362131}+\\frac{10238\\,\\alpha_{2}}{344307}-\\frac{1502\\,\\alpha_{1}}{344307}-\\frac{50171}{114769}\\)"
      ],
      "text/plain": [
       "inline-value"
      ]
     },
     "metadata": {},
     "output_type": "display_data"
    },
    {
     "data": {
      "text/latex": [
       "\\(x_{3}=\\frac{151960\\,\\alpha_{1}\\,\\alpha_{2}^2\\,{\\rm Z}_{3}}{11362131}-\\frac{17804\\,\\alpha_{2}^2\\,{\\rm Z}_{3}}{344307}+\\frac{28187\\,\\alpha_{1}\\,\\alpha_{2}\\,{\\rm Z}_{3}}{11362131}-\\frac{22507\\,\\alpha_{2}\\,{\\rm Z}_{3}}{229538}+\\frac{794\\,\\alpha_{1}\\,{\\rm Z}_{3}}{344307}-\\frac{10461\\,{\\rm Z}_{3}}{114769}+\\frac{93784\\,\\alpha_{1}\\,\\alpha_{2}^2}{11362131}-\\frac{9701\\,\\alpha_{2}^2}{344307}+\\frac{47854\\,\\alpha_{1}\\,\\alpha_{2}}{11362131}+\\frac{1420\\,\\alpha_{2}}{114769}+\\frac{1348\\,\\alpha_{1}}{344307}+\\frac{1320}{114769}\\)"
      ],
      "text/plain": [
       "inline-value"
      ]
     },
     "metadata": {},
     "output_type": "display_data"
    },
    {
     "data": {
      "text/latex": [
       "\\(x_{4}=-\\frac{6464\\,\\alpha_{1}\\,\\alpha_{2}^2\\,{\\rm Z}_{3}}{1262459}+\\frac{122872\\,\\alpha_{2}^2\\,{\\rm Z}_{3}}{344307}+\\frac{19667\\,\\alpha_{1}\\,\\alpha_{2}\\,{\\rm Z}_{3}}{11362131}+\\frac{25347\\,\\alpha_{2}\\,{\\rm Z}_{3}}{229538}+\\frac{554\\,\\alpha_{1}\\,{\\rm Z}_{3}}{344307}+\\frac{11781\\,{\\rm Z}_{3}}{114769}-\\frac{1127\\,\\alpha_{1}\\,\\alpha_{2}^2}{344307}+\\frac{150377\\,\\alpha_{2}^2}{688614}-\\frac{28187\\,\\alpha_{1}\\,\\alpha_{2}}{11362131}+\\frac{22507\\,\\alpha_{2}}{229538}-\\frac{794\\,\\alpha_{1}}{344307}+\\frac{10461}{114769}\\)"
      ],
      "text/plain": [
       "inline-value"
      ]
     },
     "metadata": {},
     "output_type": "display_data"
    },
    {
     "data": {
      "text/latex": [
       "\\(x_{5}=-\\frac{93784\\,\\alpha_{1}\\,\\alpha_{2}^2\\,{\\rm Z}_{3}}{11362131}-\\frac{105068\\,\\alpha_{2}^2\\,{\\rm Z}_{3}}{344307}-\\frac{47854\\,\\alpha_{1}\\,\\alpha_{2}\\,{\\rm Z}_{3}}{11362131}-\\frac{1420\\,\\alpha_{2}\\,{\\rm Z}_{3}}{114769}-\\frac{1348\\,\\alpha_{1}\\,{\\rm Z}_{3}}{344307}-\\frac{1320\\,{\\rm Z}_{3}}{114769}-\\frac{56593\\,\\alpha_{1}\\,\\alpha_{2}^2}{11362131}-\\frac{130975\\,\\alpha_{2}^2}{688614}-\\frac{19667\\,\\alpha_{1}\\,\\alpha_{2}}{11362131}-\\frac{25347\\,\\alpha_{2}}{229538}-\\frac{554\\,\\alpha_{1}}{344307}-\\frac{11781}{114769}\\)"
      ],
      "text/plain": [
       "inline-value"
      ]
     },
     "metadata": {},
     "output_type": "display_data"
    },
    {
     "data": {
      "text/latex": [
       "\\(x_{6}=\\frac{2536\\,\\alpha_{1}\\,\\alpha_{2}^2\\,{\\rm Z}_{3}}{3787377}+\\frac{1588\\,\\alpha_{2}^2\\,{\\rm Z}_{3}}{114769}+\\frac{45085\\,\\alpha_{1}\\,\\alpha_{2}\\,{\\rm Z}_{3}}{3787377}-\\frac{241897\\,\\alpha_{2}\\,{\\rm Z}_{3}}{688614}+\\frac{1270\\,\\alpha_{1}\\,{\\rm Z}_{3}}{114769}-\\frac{37477\\,{\\rm Z}_{3}}{114769}-\\frac{320\\,\\alpha_{1}\\,\\alpha_{2}^2}{3787377}+\\frac{2696\\,\\alpha_{2}^2}{114769}-\\frac{13654\\,\\alpha_{1}\\,\\alpha_{2}}{3787377}+\\frac{40967\\,\\alpha_{2}}{344307}+\\frac{5312\\,\\alpha_{1}}{344307}+\\frac{12694}{114769}\\)"
      ],
      "text/plain": [
       "inline-value"
      ]
     },
     "metadata": {},
     "output_type": "display_data"
    },
    {
     "data": {
      "text/latex": [
       "with"
      ],
      "text/plain": [
       "inline-value"
      ]
     },
     "metadata": {},
     "output_type": "display_data"
    },
    {
     "data": {
      "text/latex": [
       "\\(\\left[ \\left[ \\alpha_{2} , -3\\,{\\rm Z}_{3}+\\alpha_{2}^3+3 \\right]  , \\left[ {\\rm Z}_{3} , {\\rm Z}_{3}^2+{\\rm Z}_{3}+1 \\right]  , \\left[ \\alpha_{1} , \\alpha_{1}^2+\\frac{3267}{4} \\right]  \\right] \\)"
      ],
      "text/plain": [
       "inline-value"
      ]
     },
     "metadata": {},
     "output_type": "display_data"
    },
    {
     "data": {
      "text/latex": [
       "Verification"
      ],
      "text/plain": [
       "inline-value"
      ]
     },
     "metadata": {},
     "output_type": "display_data"
    },
    {
     "data": {
      "text/latex": [
       "Numeric calcuration of the above solutions"
      ],
      "text/plain": [
       "inline-value"
      ]
     },
     "metadata": {},
     "output_type": "display_data"
    },
    {
     "data": {
      "text/latex": [
       "\\(\\left[ 3.420201433256688_B \\times 10^{-1}\\,i-9.396926207859081_B \\times 10^{-1} , 1.736481776669303_B \\times 10^{-1}-9.848077530122079_B \\times 10^{-1}\\,i , 9.848077530122078_B \\times 10^{-1}\\,i+1.736481776669305_B \\times 10^{-1} , -3.420201433256686_B \\times 10^{-1}\\,i-9.396926207859082_B \\times 10^{-1} , 7.660444431189777_B \\times 10^{-1}-6.427876096865393_B \\times 10^{-1}\\,i , 6.427876096865393_B \\times 10^{-1}\\,i+7.66044443118978_B \\times 10^{-1} \\right] \\)"
      ],
      "text/plain": [
       "inline-value"
      ]
     },
     "metadata": {},
     "output_type": "display_data"
    },
    {
     "data": {
      "text/latex": [
       "Numeric solutions with allroots( \\(x^6+x^3+1\\) )"
      ],
      "text/plain": [
       "inline-value"
      ]
     },
     "metadata": {},
     "output_type": "display_data"
    },
    {
     "data": {
      "text/latex": [
       "\\(\\left[ x=0.6427876096865394\\,i+0.766044443118978 , x=0.766044443118978-0.6427876096865394\\,i , x=0.3420201433256684\\,i-0.9396926207859084 , x=-0.3420201433256684\\,i-0.9396926207859084 , x=0.984807753012208\\,i+0.1736481776669304 , x=0.1736481776669304-0.984807753012208\\,i \\right] \\)"
      ],
      "text/plain": [
       "inline-value"
      ]
     },
     "metadata": {},
     "output_type": "display_data"
    }
   ],
   "source": [
    "SolveSolvable(x^6+x^3+1)$"
   ]
  },
  {
   "cell_type": "code",
   "execution_count": null,
   "metadata": {},
   "outputs": [],
   "source": [
    "SolveSolvable(x^6 + x^4 + x^3 + 2*x^2 + 3*x + 1)$"
   ]
  },
  {
   "cell_type": "code",
   "execution_count": null,
   "metadata": {},
   "outputs": [],
   "source": [
    "SolveSolvable(x^6+x^5+x^4+x^3+x^2+x+1)$"
   ]
  },
  {
   "cell_type": "code",
   "execution_count": null,
   "metadata": {},
   "outputs": [],
   "source": [
    "SolveSolvable(x^6+6*x^5+15*x^4+21*x^3+18*x^2+9*x+3)$"
   ]
  },
  {
   "cell_type": "code",
   "execution_count": null,
   "metadata": {},
   "outputs": [],
   "source": []
  }
 ],
 "metadata": {
  "kernelspec": {
   "display_name": "Maxima",
   "language": "maxima",
   "name": "maxima"
  },
  "language_info": {
   "codemirror_mode": "maxima",
   "file_extension": ".mac",
   "mimetype": "text/x-maxima",
   "name": "maxima",
   "pygments_lexer": "maxima",
   "version": "5.43.2"
  }
 },
 "nbformat": 4,
 "nbformat_minor": 4
}
